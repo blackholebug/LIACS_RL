{
 "cells": [
  {
   "cell_type": "code",
   "execution_count": 72,
   "metadata": {},
   "outputs": [],
   "source": [
    "import gym\n",
    "import random\n",
    "import numpy as np\n",
    "from keras.models     import Sequential\n",
    "from keras.layers     import Dense\n"
   ]
  },
  {
   "cell_type": "code",
   "execution_count": 73,
   "metadata": {},
   "outputs": [],
   "source": [
    "env = gym.make('MountainCar-v0')\n",
    "env.reset()\n",
    "goal_steps = 200\n",
    "score_requirement = -198\n",
    "intial_games = 10000"
   ]
  },
  {
   "cell_type": "code",
   "execution_count": 74,
   "metadata": {},
   "outputs": [],
   "source": [
    "def model_data_preparation():\n",
    "    training_data = []\n",
    "    accepted_scores = []\n",
    "    for game_index in range(intial_games):\n",
    "        score = 0\n",
    "        game_memory = []\n",
    "        previous_observation = []\n",
    "        for step_index in range(goal_steps):\n",
    "            action = random.randrange(0, 3)\n",
    "            observation, reward, done, info = env.step(action)\n",
    "            \n",
    "            if len(previous_observation) > 0:\n",
    "                game_memory.append([previous_observation, action])\n",
    "                \n",
    "            previous_observation = observation\n",
    "            if observation[0] > -0.2:  # delf-defined\n",
    "                reward = 1\n",
    "            \n",
    "            score += reward   \n",
    "            if done:  # done in wiki: position>0.5 \n",
    "                break\n",
    "            \n",
    "        if score >= score_requirement:\n",
    "            accepted_scores.append(score)\n",
    "            for data in game_memory:  # one-hot code\n",
    "                if data[1] == 1:\n",
    "                    output = [0, 1, 0]\n",
    "                elif data[1] == 0:\n",
    "                    output = [1, 0, 0]\n",
    "                elif data[1] == 2:\n",
    "                    output = [0, 0, 1]\n",
    "                training_data.append([data[0], output])\n",
    "        \n",
    "        env.reset()\n",
    "    \n",
    "    print(accepted_scores)\n",
    "    \n",
    "    return training_data"
   ]
  },
  {
   "cell_type": "code",
   "execution_count": 75,
   "metadata": {},
   "outputs": [
    {
     "name": "stdout",
     "output_type": "stream",
     "text": [
      "[-186.0, -182.0, -180.0, -190.0, -190.0, -186.0, -172.0, -188.0, -190.0, -176.0, -188.0, -194.0, -176.0, -182.0, -196.0, -176.0, -178.0, -194.0, -178.0, -188.0, -170.0, -190.0, -178.0, -184.0, -194.0, -166.0, -186.0, -196.0, -162.0, -170.0, -184.0, -196.0, -196.0, -166.0, -188.0, -176.0, -178.0, -178.0, -160.0, -174.0, -188.0, -188.0, -170.0, -172.0, -178.0, -172.0, -180.0]\n"
     ]
    }
   ],
   "source": [
    "training_data = model_data_preparation()"
   ]
  },
  {
   "cell_type": "markdown",
   "metadata": {},
   "source": [
    "#### 1"
   ]
  },
  {
   "cell_type": "code",
   "execution_count": 90,
   "metadata": {},
   "outputs": [
    {
     "name": "stdout",
     "output_type": "stream",
     "text": [
      "Epoch 1/5\n",
      "9353/9353 [==============================] - 2s 203us/step - loss: 0.2275\n",
      "Epoch 2/5\n",
      "9353/9353 [==============================] - 0s 49us/step - loss: 0.2220\n",
      "Epoch 3/5\n",
      "9353/9353 [==============================] - 0s 49us/step - loss: 0.2210\n",
      "Epoch 4/5\n",
      "9353/9353 [==============================] - 1s 92us/step - loss: 0.2208\n",
      "Epoch 5/5\n",
      "9353/9353 [==============================] - 0s 47us/step - loss: 0.2205\n",
      "Wall time: 13 s\n"
     ]
    },
    {
     "data": {
      "text/plain": [
       "array([-200., -200., -200., -200., -200., -200., -200., -200., -200.,\n",
       "       -200., -200., -200., -200., -200., -200., -200., -200., -200.,\n",
       "       -200., -200., -200., -200., -200., -200., -200., -200., -200.,\n",
       "       -200., -200., -200., -200., -200., -131., -131., -129., -129.,\n",
       "       -129., -129., -129., -128., -128., -128., -128., -128., -128.,\n",
       "       -128., -128., -128., -128., -128., -127., -127., -127., -127.,\n",
       "       -127., -127., -127., -127., -127., -127., -127., -127., -127.,\n",
       "       -126., -126., -125., -125., -125., -125., -125., -125., -125.,\n",
       "       -124., -124., -124., -124., -124., -124., -124., -123., -123.,\n",
       "       -122., -122., -122., -122., -122., -122., -122., -122., -122.,\n",
       "       -122., -121., -121., -121., -121., -121., -121., -120., -120.,\n",
       "       -120.])"
      ]
     },
     "execution_count": 90,
     "metadata": {},
     "output_type": "execute_result"
    }
   ],
   "source": [
    "%%time\n",
    "from keras.optimizers import Adam\n",
    "\n",
    "def build_model(input_size, output_size):\n",
    "        model = Sequential()\n",
    "        model.add(Dense(128, input_dim=input_size, activation='relu'))  \n",
    "        model.add(Dense(52, activation='relu'))\n",
    "        model.add(Dense(output_size, activation='linear'))\n",
    "        model.compile(loss='mse', optimizer=Adam()) \n",
    "\n",
    "        return model\n",
    "\n",
    "def train_model(training_data):\n",
    "    X = np.array([i[0] for i in training_data]).reshape(-1, len(training_data[0][0]))\n",
    "    y = np.array([i[1] for i in training_data]).reshape(-1, len(training_data[0][1]))\n",
    "    model = build_model(input_size=len(X[0]), output_size=len(y[0]))\n",
    "    \n",
    "    model.fit(X, y, epochs=5)   # train\n",
    "    return model\n",
    "\n",
    "trained_model = train_model(training_data)\n",
    "\n",
    "# orginal experiment\n",
    "\n",
    "scores = []\n",
    "choices = []\n",
    "for each_game in range(100):\n",
    "    score = 0\n",
    "    prev_obs = []\n",
    "    for step_index in range(goal_steps):\n",
    "        # Uncomment this line if you want to see how our bot playing\n",
    "        # env.render()\n",
    "        if len(prev_obs)==0:\n",
    "            action = random.randrange(0,2)\n",
    "        else:\n",
    "            action = np.argmax(trained_model.predict(prev_obs.reshape(-1, len(prev_obs)))[0])\n",
    "        \n",
    "        choices.append(action)\n",
    "        new_observation, reward, done, info = env.step(action)\n",
    "        prev_obs = new_observation\n",
    "        score+=reward   #direct\n",
    "        if done:\n",
    "            break\n",
    "\n",
    "    env.reset()\n",
    "    scores.append(score)\n",
    "    \n",
    "scores1_order = np.sort(scores)\n",
    "avg_scores1 = sum(scores)/len(scores)\n",
    "scores1_order"
   ]
  },
  {
   "cell_type": "markdown",
   "metadata": {},
   "source": [
    "#### 2"
   ]
  },
  {
   "cell_type": "code",
   "execution_count": 84,
   "metadata": {},
   "outputs": [
    {
     "name": "stdout",
     "output_type": "stream",
     "text": [
      "Epoch 1/5\n",
      "9353/9353 [==============================] - 1s 154us/step - loss: 0.2243\n",
      "Epoch 2/5\n",
      "9353/9353 [==============================] - 0s 48us/step - loss: 0.2219\n",
      "Epoch 3/5\n",
      "9353/9353 [==============================] - 0s 46us/step - loss: 0.2216\n",
      "Epoch 4/5\n",
      "9353/9353 [==============================] - 0s 46us/step - loss: 0.2214\n",
      "Epoch 5/5\n",
      "9353/9353 [==============================] - 0s 42us/step - loss: 0.2212\n",
      "Wall time: 11.9 s\n"
     ]
    },
    {
     "data": {
      "text/plain": [
       "array([-200., -200., -200., -200., -200., -200., -200., -200., -200.,\n",
       "       -200., -200., -200., -200., -200., -200., -200., -200., -200.,\n",
       "       -200., -200., -200., -200., -200., -200., -200., -200., -200.,\n",
       "       -200., -200., -200., -200., -197., -196., -195., -190., -188.,\n",
       "       -187., -187., -187., -185., -183., -182., -182., -182., -182.,\n",
       "       -182., -181., -181., -181., -181., -180., -180., -179., -179.,\n",
       "       -179., -179., -179., -178., -178., -178., -178., -178., -178.,\n",
       "       -178., -178., -178., -178., -178., -177., -177., -177., -177.,\n",
       "       -177., -177., -177., -177., -142., -122., -113., -113., -110.,\n",
       "       -109., -108., -108., -106., -104., -104., -103., -102., -101.,\n",
       "       -100.,  -99.,  -99.,  -99.,  -99.,  -98.,  -98.,  -97.,  -97.,\n",
       "        -97.])"
      ]
     },
     "execution_count": 84,
     "metadata": {},
     "output_type": "execute_result"
    }
   ],
   "source": [
    "%%time\n",
    "\n",
    "from keras.optimizers import Adagrad\n",
    "\n",
    "def build_model(input_size, output_size):\n",
    "        model = Sequential()\n",
    "        model.add(Dense(128, input_dim=input_size, activation='relu'))  \n",
    "        model.add(Dense(52, activation='relu'))\n",
    "        model.add(Dense(output_size, activation='linear'))\n",
    "        model.compile(loss='mse', optimizer=Adagrad()) \n",
    "\n",
    "        return model\n",
    "\n",
    "def train_model(training_data):\n",
    "    X = np.array([i[0] for i in training_data]).reshape(-1, len(training_data[0][0]))\n",
    "    y = np.array([i[1] for i in training_data]).reshape(-1, len(training_data[0][1]))\n",
    "    model = build_model(input_size=len(X[0]), output_size=len(y[0]))\n",
    "    \n",
    "    model.fit(X, y, epochs=5)   # train\n",
    "    return model\n",
    "\n",
    "trained_model = train_model(training_data)\n",
    "\n",
    "# orginal experiment\n",
    "\n",
    "scores = []\n",
    "choices = []\n",
    "for each_game in range(100):\n",
    "    score = 0\n",
    "    prev_obs = []\n",
    "    for step_index in range(goal_steps):\n",
    "        # Uncomment this line if you want to see how our bot playing\n",
    "        # env.render()\n",
    "        if len(prev_obs)==0:\n",
    "            action = random.randrange(0,2)\n",
    "        else:\n",
    "            action = np.argmax(trained_model.predict(prev_obs.reshape(-1, len(prev_obs)))[0])\n",
    "        \n",
    "        choices.append(action)\n",
    "        new_observation, reward, done, info = env.step(action)\n",
    "        prev_obs = new_observation\n",
    "        score+=reward   ## default reward\n",
    "        if done:\n",
    "            break\n",
    "\n",
    "    env.reset()\n",
    "    scores.append(score)\n",
    "    \n",
    "scores2_order = np.sort(scores)\n",
    "avg_scores2 = sum(scores)/len(scores)\n",
    "scores2_order"
   ]
  },
  {
   "cell_type": "markdown",
   "metadata": {},
   "source": [
    "#### 3"
   ]
  },
  {
   "cell_type": "code",
   "execution_count": 87,
   "metadata": {},
   "outputs": [
    {
     "name": "stdout",
     "output_type": "stream",
     "text": [
      "Epoch 1/5\n",
      "9353/9353 [==============================] - 2s 190us/step - loss: 0.2272\n",
      "Epoch 2/5\n",
      "9353/9353 [==============================] - 0s 48us/step - loss: 0.2229\n",
      "Epoch 3/5\n",
      "9353/9353 [==============================] - 0s 49us/step - loss: 0.2225\n",
      "Epoch 4/5\n",
      "9353/9353 [==============================] - 0s 48us/step - loss: 0.2224\n",
      "Epoch 5/5\n",
      "9353/9353 [==============================] - 1s 64us/step - loss: 0.2223\n",
      "Wall time: 14.6 s\n"
     ]
    },
    {
     "data": {
      "text/plain": [
       "array([-200., -200., -200., -200., -200., -200., -200., -200., -200.,\n",
       "       -200., -200., -200., -200., -200., -200., -200., -200., -200.,\n",
       "       -200., -200., -200., -200., -200., -200., -200., -200., -200.,\n",
       "       -200., -200., -200., -200., -200., -200., -200., -200., -200.,\n",
       "       -200., -200., -200., -200., -200., -200., -200., -200., -200.,\n",
       "       -200., -200., -200., -200., -200., -200., -200., -200., -200.,\n",
       "       -200., -200., -200., -200., -200., -200., -200., -200., -200.,\n",
       "       -200., -200., -200., -200., -200., -200., -200., -200., -200.,\n",
       "       -200., -200., -200., -200., -200., -200., -200., -200., -200.,\n",
       "       -200., -200., -200., -200., -200., -200., -200., -200., -200.,\n",
       "       -200., -200., -200., -200., -200., -200., -200., -200., -200.,\n",
       "       -200.])"
      ]
     },
     "execution_count": 87,
     "metadata": {},
     "output_type": "execute_result"
    }
   ],
   "source": [
    "%%time\n",
    "from keras.optimizers import Adadelta\n",
    "\n",
    "def build_model(input_size, output_size):\n",
    "        model = Sequential()\n",
    "        model.add(Dense(128, input_dim=input_size, activation='relu'))  \n",
    "        model.add(Dense(52, activation='relu'))\n",
    "        model.add(Dense(output_size, activation='linear'))\n",
    "        model.compile(loss='mse', optimizer=Adadelta()) \n",
    "\n",
    "        return model\n",
    "\n",
    "def train_model(training_data):\n",
    "    X = np.array([i[0] for i in training_data]).reshape(-1, len(training_data[0][0]))\n",
    "    y = np.array([i[1] for i in training_data]).reshape(-1, len(training_data[0][1]))\n",
    "    model = build_model(input_size=len(X[0]), output_size=len(y[0]))\n",
    "    \n",
    "    model.fit(X, y, epochs=5)   # train\n",
    "    return model\n",
    "\n",
    "trained_model = train_model(training_data)\n",
    "\n",
    "# orginal experiment\n",
    "\n",
    "scores = []\n",
    "choices = []\n",
    "for each_game in range(100):\n",
    "    score = 0\n",
    "    prev_obs = []\n",
    "    for step_index in range(goal_steps):\n",
    "        # Uncomment this line if you want to see how our bot playing\n",
    "        # env.render()\n",
    "        if len(prev_obs)==0:\n",
    "            action = random.randrange(0,2)\n",
    "        else:\n",
    "            action = np.argmax(trained_model.predict(prev_obs.reshape(-1, len(prev_obs)))[0])\n",
    "        \n",
    "        choices.append(action)\n",
    "        new_observation, reward, done, info = env.step(action)\n",
    "        prev_obs = new_observation\n",
    "        score+=reward   # default reward\n",
    "        if done:\n",
    "            break\n",
    "\n",
    "    env.reset()\n",
    "    scores.append(score)\n",
    "    \n",
    "scores3_order = np.sort(scores)\n",
    "avg_scores3 = sum(scores)/len(scores)\n",
    "scores3_order"
   ]
  },
  {
   "cell_type": "markdown",
   "metadata": {},
   "source": [
    "#### 4"
   ]
  },
  {
   "cell_type": "code",
   "execution_count": 94,
   "metadata": {},
   "outputs": [
    {
     "name": "stdout",
     "output_type": "stream",
     "text": [
      "Epoch 1/5\n",
      "9353/9353 [==============================] - 2s 205us/step - loss: 0.6895\n",
      "Epoch 2/5\n",
      "9353/9353 [==============================] - 0s 49us/step - loss: 0.6667\n",
      "Epoch 3/5\n",
      "9353/9353 [==============================] - 1s 58us/step - loss: 0.6667\n",
      "Epoch 4/5\n",
      "9353/9353 [==============================] - 0s 52us/step - loss: 0.6667\n",
      "Epoch 5/5\n",
      "9353/9353 [==============================] - 0s 52us/step - loss: 0.6667\n",
      "Wall time: 16.4 s\n"
     ]
    },
    {
     "data": {
      "text/plain": [
       "array([-200., -200., -200., -200., -200., -200., -200., -200., -200.,\n",
       "       -200., -200., -200., -200., -200., -200., -200., -200., -200.,\n",
       "       -200., -200., -200., -200., -200., -200., -200., -200., -200.,\n",
       "       -200., -200., -200., -200., -200., -200., -200., -200., -200.,\n",
       "       -200., -200., -200., -200., -200., -200., -200., -200., -200.,\n",
       "       -200., -200., -200., -200., -200., -200., -200., -200., -200.,\n",
       "       -200., -200., -200., -200., -200., -200., -200., -200., -200.,\n",
       "       -200., -200., -200., -200., -200., -200., -200., -200., -200.,\n",
       "       -200., -200., -200., -200., -200., -200., -200., -200., -200.,\n",
       "       -200., -200., -200., -200., -200., -200., -200., -200., -200.,\n",
       "       -200., -200., -200., -200., -200., -200., -200., -200., -200.,\n",
       "       -200.])"
      ]
     },
     "execution_count": 94,
     "metadata": {},
     "output_type": "execute_result"
    }
   ],
   "source": [
    "%%time\n",
    "from keras.optimizers import Adamax\n",
    "\n",
    "def build_model(input_size, output_size):\n",
    "        model = Sequential()\n",
    "        model.add(Dense(128, input_dim=input_size, activation='relu'))  \n",
    "        model.add(Dense(52, activation='relu'))\n",
    "        model.add(Dense(output_size, activation='linear'))\n",
    "        model.compile(loss='hinge', optimizer=Adamax()) \n",
    "\n",
    "        return model\n",
    "\n",
    "def train_model(training_data):\n",
    "    X = np.array([i[0] for i in training_data]).reshape(-1, len(training_data[0][0]))\n",
    "    y = np.array([i[1] for i in training_data]).reshape(-1, len(training_data[0][1]))\n",
    "    model = build_model(input_size=len(X[0]), output_size=len(y[0]))\n",
    "    \n",
    "    model.fit(X, y, epochs=5)   # train\n",
    "    return model\n",
    "\n",
    "trained_model = train_model(training_data)\n",
    "\n",
    "# orginal experiment\n",
    "\n",
    "scores = []\n",
    "choices = []\n",
    "for each_game in range(100):\n",
    "    score = 0\n",
    "    prev_obs = []\n",
    "    for step_index in range(goal_steps):\n",
    "#         Uncomment this line if you want to see how our bot playing\n",
    "#        env.render()\n",
    "        if len(prev_obs)==0:\n",
    "            action = random.randrange(0,2)\n",
    "        else:\n",
    "            action = np.argmax(trained_model.predict(prev_obs.reshape(-1, len(prev_obs)))[0])\n",
    "        \n",
    "        choices.append(action)\n",
    "        new_observation, reward, done, info = env.step(action)\n",
    "        prev_obs = new_observation\n",
    "        score+=reward   ## default reward\n",
    "        if done:\n",
    "            break\n",
    "\n",
    "    env.reset()\n",
    "    scores.append(score)\n",
    "    \n",
    "scores4_order = np.sort(scores)\n",
    "avg_scores4 = sum(scores)/len(scores)\n",
    "scores4_order"
   ]
  },
  {
   "cell_type": "markdown",
   "metadata": {},
   "source": [
    "#### 5"
   ]
  },
  {
   "cell_type": "code",
   "execution_count": 92,
   "metadata": {},
   "outputs": [
    {
     "name": "stdout",
     "output_type": "stream",
     "text": [
      "Epoch 1/5\n",
      "9353/9353 [==============================] - 2s 220us/step - loss: 0.6880\n",
      "Epoch 2/5\n",
      "9353/9353 [==============================] - 1s 84us/step - loss: 0.6667\n",
      "Epoch 3/5\n",
      "9353/9353 [==============================] - 1s 59us/step - loss: 0.6667\n",
      "Epoch 4/5\n",
      "9353/9353 [==============================] - 1s 81us/step - loss: 0.6667\n",
      "Epoch 5/5\n",
      "9353/9353 [==============================] - 0s 53us/step - loss: 0.6667\n",
      "Wall time: 16.5 s\n"
     ]
    },
    {
     "data": {
      "text/plain": [
       "array([-200., -200., -200., -200., -200., -200., -200., -200., -200.,\n",
       "       -200., -200., -200., -200., -200., -200., -200., -200., -200.,\n",
       "       -200., -200., -200., -200., -200., -200., -200., -200., -200.,\n",
       "       -200., -200., -200., -200., -200., -200., -200., -200., -200.,\n",
       "       -200., -200., -200., -200., -200., -200., -200., -200., -200.,\n",
       "       -200., -200., -200., -200., -200., -200., -200., -200., -200.,\n",
       "       -200., -200., -200., -200., -200., -200., -200., -200., -200.,\n",
       "       -200., -200., -200., -200., -200., -200., -200., -200., -200.,\n",
       "       -200., -200., -200., -200., -200., -200., -200., -200., -200.,\n",
       "       -200., -200., -200., -200., -200., -200., -200., -200., -200.,\n",
       "       -200., -200., -200., -200., -200., -200., -200., -200., -200.,\n",
       "       -200.])"
      ]
     },
     "execution_count": 92,
     "metadata": {},
     "output_type": "execute_result"
    }
   ],
   "source": [
    "%%time\n",
    "from keras.optimizers import RMSprop\n",
    "\n",
    "def build_model(input_size, output_size):\n",
    "        model = Sequential()\n",
    "        model.add(Dense(128, input_dim=input_size, activation='relu'))  \n",
    "        model.add(Dense(52, activation='relu'))\n",
    "        model.add(Dense(output_size, activation='linear'))\n",
    "        model.compile(loss='hinge', optimizer=RMSprop()) \n",
    "\n",
    "        return model\n",
    "\n",
    "def train_model(training_data):\n",
    "    X = np.array([i[0] for i in training_data]).reshape(-1, len(training_data[0][0]))\n",
    "    y = np.array([i[1] for i in training_data]).reshape(-1, len(training_data[0][1]))\n",
    "    model = build_model(input_size=len(X[0]), output_size=len(y[0]))\n",
    "    \n",
    "    model.fit(X, y, epochs=5)   # train\n",
    "    return model\n",
    "\n",
    "trained_model = train_model(training_data)\n",
    "\n",
    "# orginal experiment\n",
    "\n",
    "scores = []\n",
    "choices = []\n",
    "for each_game in range(100):\n",
    "    score = 0\n",
    "    prev_obs = []\n",
    "    for step_index in range(goal_steps):\n",
    "#         Uncomment this line if you want to see how our bot playing\n",
    "#        env.render()\n",
    "        if len(prev_obs)==0:\n",
    "            action = random.randrange(0,2)\n",
    "        else:\n",
    "            action = np.argmax(trained_model.predict(prev_obs.reshape(-1, len(prev_obs)))[0])\n",
    "        \n",
    "        choices.append(action)\n",
    "        new_observation, reward, done, info = env.step(action)\n",
    "        prev_obs = new_observation\n",
    "        score+=reward   ## default reward\n",
    "        if done:\n",
    "            break\n",
    "\n",
    "    env.reset()\n",
    "    scores.append(score)\n",
    "    \n",
    "scores5_order = np.sort(scores)\n",
    "avg_scores5 = sum(scores)/len(scores)\n",
    "scores5_order"
   ]
  },
  {
   "cell_type": "markdown",
   "metadata": {},
   "source": [
    "#### 6"
   ]
  },
  {
   "cell_type": "code",
   "execution_count": 97,
   "metadata": {},
   "outputs": [
    {
     "name": "stdout",
     "output_type": "stream",
     "text": [
      "Epoch 1/5\n",
      "9353/9353 [==============================] - 2s 205us/step - loss: 0.7934\n",
      "Epoch 2/5\n",
      "9353/9353 [==============================] - 1s 68us/step - loss: 0.6671\n",
      "Epoch 3/5\n",
      "9353/9353 [==============================] - 1s 63us/step - loss: 0.6667\n",
      "Epoch 4/5\n",
      "9353/9353 [==============================] - 1s 69us/step - loss: 0.6667\n",
      "Epoch 5/5\n",
      "9353/9353 [==============================] - 0s 48us/step - loss: 0.6667\n",
      "Wall time: 19 s\n"
     ]
    },
    {
     "data": {
      "text/plain": [
       "array([-200., -200., -200., -200., -200., -200., -200., -200., -200.,\n",
       "       -200., -200., -200., -200., -200., -200., -200., -200., -200.,\n",
       "       -200., -200., -200., -200., -200., -200., -200., -200., -200.,\n",
       "       -200., -200., -200., -200., -200., -200., -200., -200., -200.,\n",
       "       -200., -200., -200., -200., -200., -200., -200., -200., -200.,\n",
       "       -200., -200., -200., -200., -200., -200., -200., -200., -200.,\n",
       "       -200., -200., -200., -200., -200., -200., -200., -200., -200.,\n",
       "       -200., -200., -200., -200., -200., -200., -200., -200., -200.,\n",
       "       -200., -200., -200., -200., -200., -200., -200., -200., -200.,\n",
       "       -200., -200., -200., -200., -200., -200., -200., -200., -200.,\n",
       "       -200., -200., -200., -200., -200., -200., -200., -200., -200.,\n",
       "       -200.])"
      ]
     },
     "execution_count": 97,
     "metadata": {},
     "output_type": "execute_result"
    }
   ],
   "source": [
    "%%time\n",
    "#from keras.optimizers import sgd\n",
    "\n",
    "def build_model(input_size, output_size):\n",
    "        model = Sequential()\n",
    "        model.add(Dense(128, input_dim=input_size, activation='relu'))  \n",
    "        model.add(Dense(52, activation='relu'))\n",
    "        model.add(Dense(output_size, activation='linear'))\n",
    "        model.compile(loss='hinge', optimizer='sgd') \n",
    "\n",
    "        return model\n",
    "\n",
    "def train_model(training_data):\n",
    "    X = np.array([i[0] for i in training_data]).reshape(-1, len(training_data[0][0]))\n",
    "    y = np.array([i[1] for i in training_data]).reshape(-1, len(training_data[0][1]))\n",
    "    model = build_model(input_size=len(X[0]), output_size=len(y[0]))\n",
    "    \n",
    "    model.fit(X, y, epochs=5)   # train\n",
    "    return model\n",
    "\n",
    "trained_model = train_model(training_data)\n",
    "\n",
    "# orginal experiment\n",
    "\n",
    "scores = []\n",
    "choices = []\n",
    "for each_game in range(100):\n",
    "    score = 0\n",
    "    prev_obs = []\n",
    "    for step_index in range(goal_steps):\n",
    "#         Uncomment this line if you want to see how our bot playing\n",
    "#        env.render()\n",
    "        if len(prev_obs)==0:\n",
    "            action = random.randrange(0,2)\n",
    "        else:\n",
    "            action = np.argmax(trained_model.predict(prev_obs.reshape(-1, len(prev_obs)))[0])\n",
    "        \n",
    "        choices.append(action)\n",
    "        new_observation, reward, done, info = env.step(action)\n",
    "        prev_obs = new_observation\n",
    "        score+=reward   ## default reward\n",
    "        if done:\n",
    "            break\n",
    "\n",
    "    env.reset()\n",
    "    scores.append(score)\n",
    "    \n",
    "scores6_order = np.sort(scores)\n",
    "avg_scores6 = sum(scores)/len(scores)\n",
    "scores6_order"
   ]
  },
  {
   "cell_type": "markdown",
   "metadata": {},
   "source": [
    "### plot"
   ]
  },
  {
   "cell_type": "code",
   "execution_count": 115,
   "metadata": {},
   "outputs": [
    {
     "data": {
      "image/png": "[encoded data removed]",
      "text/plain": [
       "<Figure size 576x432 with 1 Axes>"
      ]
     },
     "metadata": {
      "needs_background": "light"
     },
     "output_type": "display_data"
    }
   ],
   "source": [
    "from matplotlib import pyplot as plt\n",
    "\n",
    "fig = plt.figure(figsize=(8,6))\n",
    "ax = fig.add_subplot(111)\n",
    "\n",
    "ax.plot(scores1_order, label='Adam')\n",
    "ax.axhline(avg_scores1, linewidth=0.5)  # color='blue', linewidth=0.5\n",
    "\n",
    "ax.plot(scores2_order, color='r', label='Adagrad')\n",
    "ax.axhline(avg_scores2, color='r',linewidth=0.5)\n",
    "\n",
    "ax.plot(scores3_order, color='g', label='Adadelta')\n",
    "ax.axhline(avg_scores3, color='g',linewidth=0.5)\n",
    "\n",
    "ax.plot(scores4_order, color='c', label='Adamax')\n",
    "ax.axhline(avg_scores4, color='c',linewidth=0.5)\n",
    "\n",
    "ax.plot(scores5_order, color='m', label='RMSprop')\n",
    "ax.axhline(avg_scores5, color='m',linewidth=0.5)\n",
    "\n",
    "ax.plot(scores6_order, color='y', label='sgd')\n",
    "ax.axhline(avg_scores6, color='y',linewidth=0.5)\n",
    "\n",
    "ax.legend(loc='upper left')\n",
    "ax.margins(0.05)\n",
    "#ax.set_title('results with different optimizer')\n",
    "ax.set_xlabel('trial')\n",
    "ax.set_ylabel('score')\n",
    "\n",
    "\n",
    "\n",
    "plt.savefig('optimizer.png')\n",
    "# ax.set_rasterized(True)\n",
    "# plt.savefig('optimizer.eps', format='eps')\n",
    "\n",
    "plt.show()"
   ]
  },
  {
   "cell_type": "code",
   "execution_count": null,
   "metadata": {},
   "outputs": [],
   "source": []
  },
  {
   "cell_type": "code",
   "execution_count": null,
   "metadata": {},
   "outputs": [],
   "source": []
  }
 ],
 "metadata": {
  "kernelspec": {
   "display_name": "Python 3",
   "language": "python",
   "name": "python3"
  },
  "language_info": {
   "codemirror_mode": {
    "name": "ipython",
    "version": 3
   },
   "file_extension": ".py",
   "mimetype": "text/x-python",
   "name": "python",
   "nbconvert_exporter": "python",
   "pygments_lexer": "ipython3",
   "version": "3.6.9"
  }
 },
 "nbformat": 4,
 "nbformat_minor": 2
}
