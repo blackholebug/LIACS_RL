{
 "cells": [
  {
   "cell_type": "code",
   "execution_count": 1,
   "metadata": {},
   "outputs": [
    {
     "name": "stderr",
     "output_type": "stream",
     "text": [
      "Using TensorFlow backend.\n"
     ]
    }
   ],
   "source": [
    "import gym\n",
    "import random\n",
    "import numpy as np\n",
    "from keras.models     import Sequential\n",
    "from keras.layers     import Dense\n",
    "from keras.optimizers import Adam"
   ]
  },
  {
   "cell_type": "code",
   "execution_count": 2,
   "metadata": {},
   "outputs": [],
   "source": [
    "env = gym.make('MountainCar-v0')\n",
    "env.reset()\n",
    "goal_steps = 200\n",
    "score_requirement = -198\n",
    "intial_games = 10000"
   ]
  },
  {
   "cell_type": "code",
   "execution_count": 3,
   "metadata": {},
   "outputs": [],
   "source": [
    "def model_data_preparation():\n",
    "    training_data = []\n",
    "    accepted_scores = []\n",
    "    for game_index in range(intial_games):\n",
    "        score = 0\n",
    "        game_memory = []\n",
    "        previous_observation = []\n",
    "        for step_index in range(goal_steps):\n",
    "            action = random.randrange(0, 3)\n",
    "            observation, reward, done, info = env.step(action)\n",
    "            \n",
    "            if len(previous_observation) > 0:\n",
    "                game_memory.append([previous_observation, action])\n",
    "                \n",
    "            previous_observation = observation\n",
    "            if observation[0] > -0.2:  # self-defined reward\n",
    "                reward = 1\n",
    "            \n",
    "            score += reward   \n",
    "            if done:  # done in wiki: position>0.5 \n",
    "                break\n",
    "            \n",
    "        if score >= score_requirement:\n",
    "            accepted_scores.append(score)\n",
    "            for data in game_memory:  # one-hot code\n",
    "                if data[1] == 1:\n",
    "                    output = [0, 1, 0]\n",
    "                elif data[1] == 0:\n",
    "                    output = [1, 0, 0]\n",
    "                elif data[1] == 2:\n",
    "                    output = [0, 0, 1]\n",
    "                training_data.append([data[0], output])\n",
    "        \n",
    "        env.reset()\n",
    "    \n",
    "    print(accepted_scores)\n",
    "    \n",
    "    return training_data"
   ]
  },
  {
   "cell_type": "code",
   "execution_count": 4,
   "metadata": {},
   "outputs": [
    {
     "name": "stdout",
     "output_type": "stream",
     "text": [
      "[-164.0, -194.0, -190.0, -184.0, -190.0, -178.0, -176.0, -176.0, -190.0, -194.0, -184.0, -180.0, -188.0, -162.0, -164.0, -180.0, -190.0, -162.0, -180.0, -184.0, -190.0, -170.0, -180.0, -172.0, -184.0, -182.0, -172.0, -186.0, -194.0, -188.0, -184.0, -184.0, -170.0, -184.0, -182.0, -190.0, -174.0, -192.0, -192.0]\n"
     ]
    }
   ],
   "source": [
    "training_data = model_data_preparation()"
   ]
  },
  {
   "cell_type": "markdown",
   "metadata": {},
   "source": [
    "#### 1"
   ]
  },
  {
   "cell_type": "code",
   "execution_count": 13,
   "metadata": {},
   "outputs": [
    {
     "name": "stdout",
     "output_type": "stream",
     "text": [
      "Epoch 1/5\n",
      "7761/7761 [==============================] - 1s 109us/step - loss: 0.2308\n",
      "Epoch 2/5\n",
      "7761/7761 [==============================] - 0s 40us/step - loss: 0.2221\n",
      "Epoch 3/5\n",
      "7761/7761 [==============================] - 0s 42us/step - loss: 0.2217\n",
      "Epoch 4/5\n",
      "7761/7761 [==============================] - 0s 43us/step - loss: 0.2210\n",
      "Epoch 5/5\n",
      "7761/7761 [==============================] - 0s 43us/step - loss: 0.2206\n",
      "Wall time: 7.2 s\n"
     ]
    },
    {
     "data": {
      "text/plain": [
       "array([-200., -200., -200., -200., -200., -200., -200., -191., -190.,\n",
       "       -189., -189., -189., -186., -185., -182., -179., -177., -176.,\n",
       "       -176., -176., -175., -175., -175., -174., -174., -173., -173.,\n",
       "       -172., -172., -172., -172., -172., -172., -172., -172., -172.,\n",
       "       -172., -171., -171., -171., -171., -171., -171., -171., -171.,\n",
       "       -171., -171., -171., -170., -170., -170., -170., -170., -170.,\n",
       "       -170., -170., -170., -125., -119., -117., -114., -113., -108.,\n",
       "       -106., -102., -101., -101.,  -99.,  -99.,  -99.,  -98.,  -98.,\n",
       "        -97.,  -97.,  -97.,  -97.,  -97.,  -95.,  -95.,  -95.,  -95.,\n",
       "        -95.,  -95.,  -94.,  -94.,  -94.,  -94.,  -94.,  -94.,  -93.,\n",
       "        -93.,  -92.,  -92.,  -92.,  -92.,  -92.,  -92.,  -91.,  -91.,\n",
       "        -91.])"
      ]
     },
     "execution_count": 13,
     "metadata": {},
     "output_type": "execute_result"
    }
   ],
   "source": [
    "%%time\n",
    "\n",
    "def build_model(input_size, output_size):\n",
    "        model = Sequential()\n",
    "        model.add(Dense(128, input_dim=input_size, activation='relu'))\n",
    "        model.add(Dense(52, activation='relu'))\n",
    "        model.add(Dense(output_size, activation='linear'))\n",
    "        model.compile(loss='mse', optimizer=Adam()) # keras.losses.categorical_crossentropy\n",
    "\n",
    "        return model\n",
    "\n",
    "def train_model(training_data):\n",
    "    X = np.array([i[0] for i in training_data]).reshape(-1, len(training_data[0][0]))\n",
    "    y = np.array([i[1] for i in training_data]).reshape(-1, len(training_data[0][1]))\n",
    "    model = build_model(input_size=len(X[0]), output_size=len(y[0]))\n",
    "    \n",
    "    model.fit(X, y, epochs=5)   # train\n",
    "    return model\n",
    "\n",
    "trained_model = train_model(training_data)\n",
    "\n",
    "# orginal experiment\n",
    "\n",
    "scores = []\n",
    "choices = []\n",
    "for each_game in range(100):\n",
    "    score = 0\n",
    "    prev_obs = []\n",
    "    for step_index in range(goal_steps):\n",
    "        # Uncomment this line if you want to see how our bot playing\n",
    "        # env.render()\n",
    "        if len(prev_obs)==0:\n",
    "            action = random.randrange(0,2)\n",
    "        else:\n",
    "            action = np.argmax(trained_model.predict(prev_obs.reshape(-1, len(prev_obs)))[0])\n",
    "        \n",
    "        choices.append(action)\n",
    "        new_observation, reward, done, info = env.step(action)\n",
    "        prev_obs = new_observation\n",
    "        score+=reward   # default reward\n",
    "        if done:\n",
    "            break\n",
    "\n",
    "    env.reset()\n",
    "    scores.append(score)\n",
    "    \n",
    "scores1_order = np.sort(scores)\n",
    "avg_scores1 = sum(scores)/len(scores)\n",
    "scores1_order"
   ]
  },
  {
   "cell_type": "markdown",
   "metadata": {},
   "source": [
    "#### 2"
   ]
  },
  {
   "cell_type": "code",
   "execution_count": 12,
   "metadata": {},
   "outputs": [
    {
     "name": "stdout",
     "output_type": "stream",
     "text": [
      "Epoch 1/5\n",
      "7761/7761 [==============================] - 1s 105us/step - loss: 0.3350\n",
      "Epoch 2/5\n",
      "7761/7761 [==============================] - 0s 43us/step - loss: 0.3344\n",
      "Epoch 3/5\n",
      "7761/7761 [==============================] - 0s 54us/step - loss: 0.3343\n",
      "Epoch 4/5\n",
      "7761/7761 [==============================] - 1s 71us/step - loss: 0.3341\n",
      "Epoch 5/5\n",
      "7761/7761 [==============================] - 1s 70us/step - loss: 0.3341\n",
      "Wall time: 9.76 s\n"
     ]
    },
    {
     "data": {
      "text/plain": [
       "array([-200., -200., -200., -200., -200., -200., -200., -200., -200.,\n",
       "       -200., -200., -200., -200., -200., -200., -200., -200., -200.,\n",
       "       -200., -200., -200., -200., -200., -200., -200., -200., -200.,\n",
       "       -200., -200., -200., -200., -200., -200., -200., -200., -200.,\n",
       "       -200., -200., -200., -200., -200., -200., -200., -200., -200.,\n",
       "       -200., -200., -200., -200., -200., -200., -200., -200., -200.,\n",
       "       -200., -200., -200., -200., -200., -200., -200., -200., -200.,\n",
       "       -200., -200., -200., -200., -200., -200., -200., -200., -200.,\n",
       "       -200., -200., -200., -200., -200., -200., -200., -200., -200.,\n",
       "       -200., -200., -200., -200., -200., -200., -200., -200., -200.,\n",
       "       -200., -200., -200., -200., -200., -200., -200., -200., -200.,\n",
       "       -200.])"
      ]
     },
     "execution_count": 12,
     "metadata": {},
     "output_type": "execute_result"
    }
   ],
   "source": [
    "%%time \n",
    "\n",
    "def build_model(input_size, output_size):\n",
    "        model = Sequential()\n",
    "        model.add(Dense(128, input_dim=input_size, activation='relu'))  \n",
    "        model.add(Dense(52, activation='relu'))\n",
    "        model.add(Dense(output_size, activation='linear'))\n",
    "        model.compile(loss='mean_absolute_error', optimizer=Adam()) \n",
    "\n",
    "        return model\n",
    "\n",
    "def train_model(training_data):\n",
    "    X = np.array([i[0] for i in training_data]).reshape(-1, len(training_data[0][0]))\n",
    "    y = np.array([i[1] for i in training_data]).reshape(-1, len(training_data[0][1]))\n",
    "    model = build_model(input_size=len(X[0]), output_size=len(y[0]))\n",
    "    \n",
    "    model.fit(X, y, epochs=5)   # train\n",
    "    return model\n",
    "\n",
    "trained_model = train_model(training_data)\n",
    "\n",
    "# orginal experiment\n",
    "\n",
    "scores = []\n",
    "choices = []\n",
    "for each_game in range(100):\n",
    "    score = 0\n",
    "    prev_obs = []\n",
    "    for step_index in range(goal_steps):\n",
    "        # Uncomment this line if you want to see how our bot playing\n",
    "        # env.render()\n",
    "        if len(prev_obs)==0:\n",
    "            action = random.randrange(0,2)\n",
    "        else:\n",
    "            action = np.argmax(trained_model.predict(prev_obs.reshape(-1, len(prev_obs)))[0])\n",
    "        \n",
    "        choices.append(action)\n",
    "        new_observation, reward, done, info = env.step(action)\n",
    "        prev_obs = new_observation\n",
    "        score+=reward   ## default reward\n",
    "        if done:\n",
    "            break\n",
    "\n",
    "    env.reset()\n",
    "    scores.append(score)\n",
    "    \n",
    "scores2_order = np.sort(scores)\n",
    "avg_scores2 = sum(scores)/len(scores)\n",
    "scores2_order"
   ]
  },
  {
   "cell_type": "markdown",
   "metadata": {},
   "source": [
    "#### 3"
   ]
  },
  {
   "cell_type": "code",
   "execution_count": 10,
   "metadata": {},
   "outputs": [
    {
     "name": "stdout",
     "output_type": "stream",
     "text": [
      "Epoch 1/5\n",
      "7761/7761 [==============================] - 1s 145us/step - loss: 0.1257\n",
      "Epoch 2/5\n",
      "7761/7761 [==============================] - 0s 50us/step - loss: 0.1246\n",
      "Epoch 3/5\n",
      "7761/7761 [==============================] - 0s 63us/step - loss: 0.1245\n",
      "Epoch 4/5\n",
      "7761/7761 [==============================] - 0s 43us/step - loss: 0.1243\n",
      "Epoch 5/5\n",
      "7761/7761 [==============================] - 0s 42us/step - loss: 0.1243\n",
      "Wall time: 9.89 s\n"
     ]
    },
    {
     "data": {
      "text/plain": [
       "array([-200., -200., -200., -200., -200., -200., -200., -200., -200.,\n",
       "       -200., -200., -200., -200., -200., -200., -200., -200., -200.,\n",
       "       -200., -200., -200., -200., -200., -200., -200., -200., -200.,\n",
       "       -200., -200., -200., -200., -200., -200., -200., -200., -200.,\n",
       "       -200., -200., -200., -200., -200., -200., -200., -200., -200.,\n",
       "       -200., -200., -200., -200., -200., -200., -200., -200., -200.,\n",
       "       -200., -200., -200., -200., -200., -200., -200., -200., -200.,\n",
       "       -200., -200., -200., -200., -200., -200., -200., -200., -200.,\n",
       "       -200., -200., -200., -200., -200., -200., -200., -200., -200.,\n",
       "       -200., -200., -200., -200., -200., -200., -200., -200., -200.,\n",
       "       -200., -200., -200., -200., -200., -200., -200., -200., -200.,\n",
       "       -200.])"
      ]
     },
     "execution_count": 10,
     "metadata": {},
     "output_type": "execute_result"
    }
   ],
   "source": [
    "%%time\n",
    "def build_model(input_size, output_size):\n",
    "        model = Sequential()\n",
    "        model.add(Dense(128, input_dim=input_size, activation='relu'))  \n",
    "        model.add(Dense(52, activation='relu'))\n",
    "        model.add(Dense(output_size, activation='linear'))\n",
    "        model.compile(loss='mean_squared_logarithmic_error', optimizer=Adam()) \n",
    "\n",
    "        return model\n",
    "\n",
    "def train_model(training_data):\n",
    "    X = np.array([i[0] for i in training_data]).reshape(-1, len(training_data[0][0]))\n",
    "    y = np.array([i[1] for i in training_data]).reshape(-1, len(training_data[0][1]))\n",
    "    model = build_model(input_size=len(X[0]), output_size=len(y[0]))\n",
    "    \n",
    "    model.fit(X, y, epochs=5)   # train\n",
    "    return model\n",
    "\n",
    "trained_model = train_model(training_data)\n",
    "\n",
    "# orginal experiment\n",
    "\n",
    "scores = []\n",
    "choices = []\n",
    "for each_game in range(100):\n",
    "    score = 0\n",
    "    prev_obs = []\n",
    "    for step_index in range(goal_steps):\n",
    "#         Uncomment this line if you want to see how our bot playing\n",
    "#        env.render()\n",
    "        if len(prev_obs)==0:\n",
    "            action = random.randrange(0,2)\n",
    "        else:\n",
    "            action = np.argmax(trained_model.predict(prev_obs.reshape(-1, len(prev_obs)))[0])\n",
    "        \n",
    "        choices.append(action)\n",
    "        new_observation, reward, done, info = env.step(action)\n",
    "        prev_obs = new_observation\n",
    "        score+=reward   ## default reward\n",
    "        if done:\n",
    "            break\n",
    "\n",
    "    env.reset()\n",
    "    scores.append(score)\n",
    "    \n",
    "scores3_order = np.sort(scores)\n",
    "avg_scores3 = sum(scores)/len(scores)\n",
    "scores3_order"
   ]
  },
  {
   "cell_type": "markdown",
   "metadata": {},
   "source": [
    "#### 4"
   ]
  },
  {
   "cell_type": "code",
   "execution_count": 19,
   "metadata": {},
   "outputs": [
    {
     "name": "stdout",
     "output_type": "stream",
     "text": [
      "Epoch 1/5\n",
      "7761/7761 [==============================] - 1s 162us/step - loss: 0.1071\n",
      "Epoch 2/5\n",
      "7761/7761 [==============================] - 0s 52us/step - loss: 0.1051\n",
      "Epoch 3/5\n",
      "7761/7761 [==============================] - 0s 50us/step - loss: 0.1048\n",
      "Epoch 4/5\n",
      "7761/7761 [==============================] - 0s 49us/step - loss: 0.1045\n",
      "Epoch 5/5\n",
      "7761/7761 [==============================] - 0s 47us/step - loss: 0.1044\n",
      "Wall time: 9.11 s\n"
     ]
    },
    {
     "data": {
      "text/plain": [
       "array([-200., -198., -189., -184., -182., -181., -178., -177., -177.,\n",
       "       -177., -176., -176., -176., -175., -175., -174., -174., -174.,\n",
       "       -174., -173., -173., -172., -172., -171., -171., -171., -171.,\n",
       "       -170., -170., -169., -169., -169., -169., -169., -169., -168.,\n",
       "       -168., -168., -168., -168., -167., -167., -167., -167., -166.,\n",
       "       -166., -166., -166., -166., -166., -166., -166., -166., -166.,\n",
       "       -166., -166., -166., -166., -166., -166., -166., -166., -165.,\n",
       "       -165., -165., -165., -165., -165., -165., -165., -165., -165.,\n",
       "       -165., -165., -165., -164., -164., -164., -103., -101., -101.,\n",
       "       -100.,  -98.,  -96.,  -95.,  -95.,  -95.,  -95.,  -94.,  -94.,\n",
       "        -92.,  -92.,  -92.,  -91.,  -91.,  -90.,  -89.,  -89.,  -89.,\n",
       "        -89.])"
      ]
     },
     "execution_count": 19,
     "metadata": {},
     "output_type": "execute_result"
    }
   ],
   "source": [
    "%%time\n",
    "def build_model(input_size, output_size):\n",
    "        model = Sequential()\n",
    "        model.add(Dense(128, input_dim=input_size, activation='relu'))  \n",
    "        model.add(Dense(52, activation='relu'))\n",
    "        model.add(Dense(output_size, activation='linear'))\n",
    "        model.compile(loss='logcosh', optimizer=Adam()) \n",
    "\n",
    "        return model\n",
    "\n",
    "def train_model(training_data):\n",
    "    X = np.array([i[0] for i in training_data]).reshape(-1, len(training_data[0][0]))\n",
    "    y = np.array([i[1] for i in training_data]).reshape(-1, len(training_data[0][1]))\n",
    "    model = build_model(input_size=len(X[0]), output_size=len(y[0]))\n",
    "    \n",
    "    model.fit(X, y, epochs=5)   # train\n",
    "    return model\n",
    "\n",
    "trained_model = train_model(training_data)\n",
    "\n",
    "# orginal experiment\n",
    "\n",
    "scores = []\n",
    "choices = []\n",
    "for each_game in range(100):\n",
    "    score = 0\n",
    "    prev_obs = []\n",
    "    for step_index in range(goal_steps):\n",
    "#         Uncomment this line if you want to see how our bot playing\n",
    "#        env.render()\n",
    "        if len(prev_obs)==0:\n",
    "            action = random.randrange(0,2)\n",
    "        else:\n",
    "            action = np.argmax(trained_model.predict(prev_obs.reshape(-1, len(prev_obs)))[0])\n",
    "        \n",
    "        choices.append(action)\n",
    "        new_observation, reward, done, info = env.step(action)\n",
    "        prev_obs = new_observation\n",
    "        score+=reward   # default reward\n",
    "        if done:\n",
    "            break\n",
    "\n",
    "    env.reset()\n",
    "    scores.append(score)\n",
    "    \n",
    "scores4_order = np.sort(scores)\n",
    "avg_scores4 = sum(scores)/len(scores)\n",
    "scores4_order"
   ]
  },
  {
   "cell_type": "markdown",
   "metadata": {},
   "source": [
    "#### 6"
   ]
  },
  {
   "cell_type": "code",
   "execution_count": 21,
   "metadata": {},
   "outputs": [
    {
     "name": "stdout",
     "output_type": "stream",
     "text": [
      "Epoch 1/5\n",
      "7761/7761 [==============================] - 1s 174us/step - loss: 0.7020\n",
      "Epoch 2/5\n",
      "7761/7761 [==============================] - 0s 44us/step - loss: 0.6667\n",
      "Epoch 3/5\n",
      "7761/7761 [==============================] - 0s 49us/step - loss: 0.6667\n",
      "Epoch 4/5\n",
      "7761/7761 [==============================] - 0s 46us/step - loss: 0.6667\n",
      "Epoch 5/5\n",
      "7761/7761 [==============================] - 0s 44us/step - loss: 0.6667\n",
      "Wall time: 11.2 s\n"
     ]
    },
    {
     "data": {
      "text/plain": [
       "array([-200., -200., -200., -200., -200., -200., -200., -200., -200.,\n",
       "       -200., -200., -200., -200., -200., -200., -200., -200., -200.,\n",
       "       -200., -200., -200., -200., -200., -200., -200., -200., -200.,\n",
       "       -200., -200., -200., -200., -200., -200., -200., -200., -200.,\n",
       "       -200., -200., -200., -200., -200., -200., -200., -200., -200.,\n",
       "       -200., -200., -200., -200., -200., -200., -200., -200., -200.,\n",
       "       -200., -200., -200., -200., -200., -200., -200., -200., -200.,\n",
       "       -200., -200., -200., -200., -200., -200., -200., -200., -200.,\n",
       "       -200., -200., -200., -200., -200., -200., -200., -200., -200.,\n",
       "       -200., -200., -200., -200., -200., -200., -200., -200., -200.,\n",
       "       -200., -200., -200., -200., -200., -200., -200., -200., -200.,\n",
       "       -140.])"
      ]
     },
     "execution_count": 21,
     "metadata": {},
     "output_type": "execute_result"
    }
   ],
   "source": [
    "%%time\n",
    "def build_model(input_size, output_size):\n",
    "        model = Sequential()\n",
    "        model.add(Dense(128, input_dim=input_size, activation='relu'))  \n",
    "        model.add(Dense(52, activation='relu'))\n",
    "        model.add(Dense(output_size, activation='linear'))\n",
    "        model.compile(loss='squared_hinge', optimizer=Adam()) \n",
    "\n",
    "        return model\n",
    "\n",
    "def train_model(training_data):\n",
    "    X = np.array([i[0] for i in training_data]).reshape(-1, len(training_data[0][0]))\n",
    "    y = np.array([i[1] for i in training_data]).reshape(-1, len(training_data[0][1]))\n",
    "    model = build_model(input_size=len(X[0]), output_size=len(y[0]))\n",
    "    \n",
    "    model.fit(X, y, epochs=5)   # train\n",
    "    return model\n",
    "\n",
    "trained_model = train_model(training_data)\n",
    "\n",
    "# orginal experiment\n",
    "\n",
    "scores = []\n",
    "choices = []\n",
    "for each_game in range(100):\n",
    "    score = 0\n",
    "    prev_obs = []\n",
    "    for step_index in range(goal_steps):\n",
    "#         Uncomment this line if you want to see how our bot playing\n",
    "#        env.render()\n",
    "        if len(prev_obs)==0:\n",
    "            action = random.randrange(0,2)\n",
    "        else:\n",
    "            action = np.argmax(trained_model.predict(prev_obs.reshape(-1, len(prev_obs)))[0])\n",
    "        \n",
    "        choices.append(action)\n",
    "        new_observation, reward, done, info = env.step(action)\n",
    "        prev_obs = new_observation\n",
    "        score+=reward   ## default reward\n",
    "        if done:\n",
    "            break\n",
    "\n",
    "    env.reset()\n",
    "    scores.append(score)\n",
    "    \n",
    "scores6_order = np.sort(scores)\n",
    "avg_scores6 = sum(scores)/len(scores)\n",
    "scores6_order"
   ]
  },
  {
   "cell_type": "markdown",
   "metadata": {},
   "source": [
    "#### 7"
   ]
  },
  {
   "cell_type": "code",
   "execution_count": 24,
   "metadata": {},
   "outputs": [
    {
     "name": "stdout",
     "output_type": "stream",
     "text": [
      "Epoch 1/5\n",
      "7761/7761 [==============================] - 1s 162us/step - loss: 0.7026\n",
      "Epoch 2/5\n",
      "7761/7761 [==============================] - 1s 97us/step - loss: 0.6667\n",
      "Epoch 3/5\n",
      "7761/7761 [==============================] - 0s 45us/step - loss: 0.6667\n",
      "Epoch 4/5\n",
      "7761/7761 [==============================] - 0s 49us/step - loss: 0.6667\n",
      "Epoch 5/5\n",
      "7761/7761 [==============================] - 0s 48us/step - loss: 0.6667\n",
      "Wall time: 11.6 s\n"
     ]
    },
    {
     "data": {
      "text/plain": [
       "array([-200., -200., -200., -200., -200., -200., -200., -200., -200.,\n",
       "       -200., -200., -200., -200., -200., -200., -200., -200., -200.,\n",
       "       -200., -200., -200., -200., -200., -200., -200., -200., -200.,\n",
       "       -200., -200., -200., -200., -200., -200., -200., -200., -200.,\n",
       "       -200., -200., -200., -200., -200., -200., -200., -200., -200.,\n",
       "       -200., -200., -200., -200., -200., -200., -200., -200., -200.,\n",
       "       -200., -200., -200., -200., -200., -200., -200., -200., -200.,\n",
       "       -200., -200., -200., -200., -200., -200., -200., -200., -200.,\n",
       "       -200., -200., -200., -200., -200., -200., -200., -200., -200.,\n",
       "       -200., -200., -200., -200., -200., -200., -200., -200., -200.,\n",
       "       -200., -200., -200., -200., -200., -200., -200., -200., -200.,\n",
       "       -200.])"
      ]
     },
     "execution_count": 24,
     "metadata": {},
     "output_type": "execute_result"
    }
   ],
   "source": [
    "%%time\n",
    "def build_model(input_size, output_size):\n",
    "        model = Sequential()\n",
    "        model.add(Dense(128, input_dim=input_size, activation='relu'))  \n",
    "        model.add(Dense(52, activation='relu'))\n",
    "        model.add(Dense(output_size, activation='linear'))\n",
    "        model.compile(loss='hinge', optimizer=Adam()) \n",
    "\n",
    "        return model\n",
    "\n",
    "def train_model(training_data):\n",
    "    X = np.array([i[0] for i in training_data]).reshape(-1, len(training_data[0][0]))\n",
    "    y = np.array([i[1] for i in training_data]).reshape(-1, len(training_data[0][1]))\n",
    "    model = build_model(input_size=len(X[0]), output_size=len(y[0]))\n",
    "    \n",
    "    model.fit(X, y, epochs=5)   # train\n",
    "    return model\n",
    "\n",
    "trained_model = train_model(training_data)\n",
    "\n",
    "# orginal experiment\n",
    "\n",
    "scores = []\n",
    "choices = []\n",
    "for each_game in range(100):\n",
    "    score = 0\n",
    "    prev_obs = []\n",
    "    for step_index in range(goal_steps):\n",
    "#         Uncomment this line if you want to see how our bot playing\n",
    "#        env.render()\n",
    "        if len(prev_obs)==0:\n",
    "            action = random.randrange(0,2)\n",
    "        else:\n",
    "            action = np.argmax(trained_model.predict(prev_obs.reshape(-1, len(prev_obs)))[0])\n",
    "        \n",
    "        choices.append(action)\n",
    "        new_observation, reward, done, info = env.step(action)\n",
    "        prev_obs = new_observation\n",
    "        score+=reward   ## default reward\n",
    "        if done:\n",
    "            break\n",
    "\n",
    "    env.reset()\n",
    "    scores.append(score)\n",
    "    \n",
    "scores7_order = np.sort(scores)\n",
    "avg_scores7 = sum(scores)/len(scores)\n",
    "scores7_order"
   ]
  },
  {
   "cell_type": "markdown",
   "metadata": {},
   "source": [
    "### plot"
   ]
  },
  {
   "cell_type": "code",
   "execution_count": 42,
   "metadata": {},
   "outputs": [
    {
     "data": {
      "image/png": "[encoded data removed]",
      "text/plain": [
       "<Figure size 576x432 with 1 Axes>"
      ]
     },
     "metadata": {
      "needs_background": "light"
     },
     "output_type": "display_data"
    }
   ],
   "source": [
    "from matplotlib import pyplot as plt\n",
    "\n",
    "fig = plt.figure(figsize=(8,6))\n",
    "ax = fig.add_subplot(111)\n",
    "\n",
    "ax.plot(scores1_order,label='mse')\n",
    "ax.axhline(avg_scores1, linewidth=0.5)  # color='blue', linewidth=0.5\n",
    "\n",
    "ax.plot(scores2_order, color='r',label='mean_absolute_eror')\n",
    "ax.axhline(avg_scores2, color='r',linewidth=0.5)\n",
    "\n",
    "ax.plot(scores3_order, color='g',label='mean_squared_logarithmic_error ')\n",
    "ax.axhline(avg_scores3, color='g',linewidth=0.5)\n",
    "\n",
    "ax.plot(scores4_order, color='y',label='logcosh')\n",
    "ax.axhline(avg_scores4, color='y',linewidth=0.5)\n",
    "\n",
    "# ax.plot(scores5_order, color='m',label='mean_squared_logarithmic_error')\n",
    "# ax.axhline(avg_scores5, color='m',linewidth=0.5)\n",
    "\n",
    "ax.plot(scores6_order, color='m',label='squared_hinge')\n",
    "ax.axhline(avg_scores6, color='m',linewidth=0.5)\n",
    "\n",
    "ax.plot(scores7_order, color='c',label='hinge')\n",
    "ax.axhline(avg_scores7, color='c',linewidth=0.5)\n",
    "\n",
    "ax.legend(loc='upper left')\n",
    "ax.margins(0.05)\n",
    "#ax.set_title('results with different loss')\n",
    "ax.set_xlabel('trial')\n",
    "ax.set_ylabel('score')\n",
    "\n",
    "plt.savefig('loss.png')\n",
    "# ax.set_rasterized(True)\n",
    "# plt.savefig('loss.eps', format='eps')\n",
    "\n",
    "plt.show()"
   ]
  },
  {
   "cell_type": "code",
   "execution_count": null,
   "metadata": {},
   "outputs": [],
   "source": []
  },
  {
   "cell_type": "code",
   "execution_count": null,
   "metadata": {},
   "outputs": [],
   "source": []
  }
 ],
 "metadata": {
  "kernelspec": {
   "display_name": "Python 3",
   "language": "python",
   "name": "python3"
  },
  "language_info": {
   "codemirror_mode": {
    "name": "ipython",
    "version": 3
   },
   "file_extension": ".py",
   "mimetype": "text/x-python",
   "name": "python",
   "nbconvert_exporter": "python",
   "pygments_lexer": "ipython3",
   "version": "3.6.9"
  }
 },
 "nbformat": 4,
 "nbformat_minor": 2
}
