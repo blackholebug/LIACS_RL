{
 "cells": [
  {
   "cell_type": "code",
   "execution_count": 54,
   "metadata": {},
   "outputs": [],
   "source": [
    "import gym\n",
    "import random\n",
    "import numpy as np\n",
    "from keras.models     import Sequential\n",
    "from keras.layers     import Dense\n",
    "from keras.optimizers import Adam"
   ]
  },
  {
   "cell_type": "code",
   "execution_count": 55,
   "metadata": {},
   "outputs": [],
   "source": [
    "env = gym.make('MountainCar-v0')\n",
    "env.reset()\n",
    "goal_steps = 200\n",
    "score_requirement = -198\n",
    "intial_games = 10000"
   ]
  },
  {
   "cell_type": "markdown",
   "metadata": {},
   "source": [
    "#### 1"
   ]
  },
  {
   "cell_type": "code",
   "execution_count": 4,
   "metadata": {},
   "outputs": [],
   "source": [
    "def model_data_preparation():\n",
    "    training_data = []\n",
    "    accepted_scores = []\n",
    "    for game_index in range(intial_games):\n",
    "        score = 0\n",
    "        game_memory = []\n",
    "        previous_observation = []\n",
    "        for step_index in range(goal_steps):\n",
    "            action = random.randrange(0, 3)\n",
    "            observation, reward, done, info = env.step(action)\n",
    "            \n",
    "            if len(previous_observation) > 0:\n",
    "                game_memory.append([previous_observation, action])\n",
    "                \n",
    "            previous_observation = observation\n",
    "            if observation[0] > -0.2:   #self-defined\n",
    "                reward = 1\n",
    "            \n",
    "            score += reward   \n",
    "            if done:  # done in wiki: position>0.5 \n",
    "                break\n",
    "            \n",
    "        if score >= score_requirement:\n",
    "            accepted_scores.append(score)\n",
    "            for data in game_memory:  # one-hot code\n",
    "                if data[1] == 1:\n",
    "                    output = [0, 1, 0]\n",
    "                elif data[1] == 0:\n",
    "                    output = [1, 0, 0]\n",
    "                elif data[1] == 2:\n",
    "                    output = [0, 0, 1]\n",
    "                training_data.append([data[0], output])\n",
    "        \n",
    "        env.reset()\n",
    "    \n",
    "    print(accepted_scores)\n",
    "    \n",
    "    return training_data"
   ]
  },
  {
   "cell_type": "code",
   "execution_count": 5,
   "metadata": {},
   "outputs": [
    {
     "name": "stdout",
     "output_type": "stream",
     "text": [
      "[-176.0, -186.0, -184.0, -192.0, -174.0, -192.0, -178.0, -180.0, -150.0, -196.0, -190.0, -192.0, -192.0, -176.0, -166.0, -168.0, -198.0, -186.0, -170.0, -172.0, -176.0, -188.0, -174.0, -194.0, -178.0, -190.0, -176.0, -182.0, -182.0, -182.0, -192.0, -198.0, -162.0, -188.0, -174.0, -198.0, -172.0, -184.0, -168.0, -186.0, -176.0, -180.0]\n"
     ]
    }
   ],
   "source": [
    "training_data = model_data_preparation()"
   ]
  },
  {
   "cell_type": "code",
   "execution_count": 6,
   "metadata": {},
   "outputs": [
    {
     "name": "stdout",
     "output_type": "stream",
     "text": [
      "Epoch 1/5\n",
      "8358/8358 [==============================] - 2s 192us/step - loss: 0.2279\n",
      "Epoch 2/5\n",
      "8358/8358 [==============================] - 1s 101us/step - loss: 0.2225\n",
      "Epoch 3/5\n",
      "8358/8358 [==============================] - 1s 96us/step - loss: 0.2219\n",
      "Epoch 4/5\n",
      "8358/8358 [==============================] - 1s 132us/step - loss: 0.2214\n",
      "Epoch 5/5\n",
      "8358/8358 [==============================] - 1s 116us/step - loss: 0.2209\n",
      "Wall time: 26.6 s\n"
     ]
    },
    {
     "data": {
      "text/plain": [
       "array([-200., -200., -200., -200., -200., -200., -200., -200., -200.,\n",
       "       -200., -200., -200., -200., -200., -200., -200., -200., -200.,\n",
       "       -200., -200., -200., -200., -200., -200., -200., -200., -174.,\n",
       "       -173., -173., -172., -168., -166., -166., -166., -166., -166.,\n",
       "       -166., -165., -165., -165., -165., -164., -164., -164., -164.,\n",
       "       -164., -163., -163., -163., -163., -163., -163., -163., -163.,\n",
       "       -163., -163., -163., -163., -162., -157., -153., -153., -150.,\n",
       "       -144., -141., -140., -140., -138., -138., -138., -138., -137.,\n",
       "       -136., -136., -135., -135., -134., -134., -133., -133., -132.,\n",
       "       -132., -132., -132., -131., -131., -131., -131., -131., -130.,\n",
       "       -130., -129., -129., -129., -129., -129., -129., -129., -129.,\n",
       "       -129.])"
      ]
     },
     "execution_count": 6,
     "metadata": {},
     "output_type": "execute_result"
    }
   ],
   "source": [
    "%%time\n",
    "\n",
    "def build_model(input_size, output_size):\n",
    "        model = Sequential()\n",
    "        model.add(Dense(128, input_dim=input_size, activation='relu'))  #initializer\n",
    "        model.add(Dense(52, activation='relu'))\n",
    "        model.add(Dense(output_size, activation='linear'))\n",
    "        model.compile(loss='mse', optimizer=Adam()) # keras.losses.categorical_crossentropy\n",
    "\n",
    "        return model\n",
    "\n",
    "def train_model(training_data):\n",
    "    X = np.array([i[0] for i in training_data]).reshape(-1, len(training_data[0][0]))\n",
    "    y = np.array([i[1] for i in training_data]).reshape(-1, len(training_data[0][1]))\n",
    "    model = build_model(input_size=len(X[0]), output_size=len(y[0]))\n",
    "    \n",
    "    model.fit(X, y, epochs=5)   # train\n",
    "    return model\n",
    "\n",
    "trained_model = train_model(training_data)\n",
    "\n",
    "# orginal experiment\n",
    "\n",
    "scores = []\n",
    "choices = []\n",
    "for each_game in range(100):\n",
    "    score = 0\n",
    "    prev_obs = []\n",
    "    for step_index in range(goal_steps):\n",
    "        # Uncomment this line if you want to see how our bot playing\n",
    "        # env.render()\n",
    "        if len(prev_obs)==0:\n",
    "            action = random.randrange(0,2)\n",
    "        else:\n",
    "            action = np.argmax(trained_model.predict(prev_obs.reshape(-1, len(prev_obs)))[0])\n",
    "        \n",
    "        choices.append(action)\n",
    "        new_observation, reward, done, info = env.step(action)\n",
    "        prev_obs = new_observation\n",
    "        score+=reward   #direct\n",
    "        if done:\n",
    "            break\n",
    "\n",
    "    env.reset()\n",
    "    scores.append(score)\n",
    "    \n",
    "scores1_order = np.sort(scores)\n",
    "avg_scores1 = sum(scores)/len(scores)\n",
    "scores1_order"
   ]
  },
  {
   "cell_type": "markdown",
   "metadata": {},
   "source": [
    "#### 2"
   ]
  },
  {
   "cell_type": "code",
   "execution_count": 10,
   "metadata": {},
   "outputs": [],
   "source": [
    "def model_data_preparation():\n",
    "    training_data = []\n",
    "    accepted_scores = []\n",
    "    for game_index in range(intial_games):\n",
    "        score = 0\n",
    "        game_memory = []\n",
    "        previous_observation = []\n",
    "        for step_index in range(goal_steps):\n",
    "            action = random.randrange(0, 3)\n",
    "            observation, reward, done, info = env.step(action)\n",
    "            \n",
    "            if len(previous_observation) > 0:\n",
    "                game_memory.append([previous_observation, action])\n",
    "                \n",
    "            previous_observation = observation\n",
    "            if observation[0] > -0.1:  #self-defined\n",
    "                reward = 1\n",
    "            \n",
    "            score += reward   \n",
    "            if done:  # done in wiki: position>0.5 \n",
    "                break\n",
    "            \n",
    "        if score >= score_requirement:\n",
    "            accepted_scores.append(score)\n",
    "            for data in game_memory:  # one-hot code\n",
    "                if data[1] == 1:\n",
    "                    output = [0, 1, 0]\n",
    "                elif data[1] == 0:\n",
    "                    output = [1, 0, 0]\n",
    "                elif data[1] == 2:\n",
    "                    output = [0, 0, 1]\n",
    "                training_data.append([data[0], output])\n",
    "        \n",
    "        env.reset()\n",
    "    \n",
    "    print(accepted_scores)\n",
    "    \n",
    "    return training_data"
   ]
  },
  {
   "cell_type": "code",
   "execution_count": 11,
   "metadata": {},
   "outputs": [
    {
     "name": "stdout",
     "output_type": "stream",
     "text": [
      "[-186.0, -190.0]\n"
     ]
    }
   ],
   "source": [
    "training_data = model_data_preparation()"
   ]
  },
  {
   "cell_type": "code",
   "execution_count": 12,
   "metadata": {},
   "outputs": [
    {
     "name": "stdout",
     "output_type": "stream",
     "text": [
      "Epoch 1/5\n",
      "398/398 [==============================] - 0s 314us/step - loss: 0.3061\n",
      "Epoch 2/5\n",
      "398/398 [==============================] - 0s 90us/step - loss: 0.2557\n",
      "Epoch 3/5\n",
      "398/398 [==============================] - 0s 88us/step - loss: 0.2323\n",
      "Epoch 4/5\n",
      "398/398 [==============================] - 0s 88us/step - loss: 0.2283\n",
      "Epoch 5/5\n",
      "398/398 [==============================] - 0s 90us/step - loss: 0.2270\n",
      "Wall time: 16.7 s\n"
     ]
    },
    {
     "data": {
      "text/plain": [
       "array([-200., -200., -200., -200., -200., -200., -200., -200., -200.,\n",
       "       -200., -200., -200., -200., -200., -200., -200., -200., -200.,\n",
       "       -200., -200., -200., -200., -200., -200., -200., -200., -200.,\n",
       "       -200., -200., -200., -200., -200., -200., -200., -200., -200.,\n",
       "       -200., -200., -200., -200., -200., -200., -200., -200., -200.,\n",
       "       -200., -200., -200., -200., -200., -200., -200., -200., -200.,\n",
       "       -200., -200., -200., -200., -200., -200., -200., -200., -200.,\n",
       "       -200., -200., -200., -200., -200., -200., -200., -200., -200.,\n",
       "       -200., -200., -200., -200., -200., -200., -200., -200., -200.,\n",
       "       -200., -200., -200., -200., -200., -200., -200., -200., -200.,\n",
       "       -200., -200., -200., -200., -200., -200., -200., -200., -200.,\n",
       "       -200.])"
      ]
     },
     "execution_count": 12,
     "metadata": {},
     "output_type": "execute_result"
    }
   ],
   "source": [
    "%%time\n",
    "\n",
    "def build_model(input_size, output_size):\n",
    "        model = Sequential()\n",
    "        model.add(Dense(128, input_dim=input_size, activation='relu'))  #initializer\n",
    "        model.add(Dense(52, activation='relu'))\n",
    "        model.add(Dense(output_size, activation='linear'))\n",
    "        model.compile(loss='mse', optimizer=Adam()) # keras.losses.categorical_crossentropy\n",
    "\n",
    "        return model\n",
    "\n",
    "def train_model(training_data):\n",
    "    X = np.array([i[0] for i in training_data]).reshape(-1, len(training_data[0][0]))\n",
    "    y = np.array([i[1] for i in training_data]).reshape(-1, len(training_data[0][1]))\n",
    "    model = build_model(input_size=len(X[0]), output_size=len(y[0]))\n",
    "    \n",
    "    model.fit(X, y, epochs=5)   # train\n",
    "    return model\n",
    "\n",
    "trained_model = train_model(training_data)\n",
    "\n",
    "# orginal experiment\n",
    "\n",
    "scores = []\n",
    "choices = []\n",
    "for each_game in range(100):\n",
    "    score = 0\n",
    "    prev_obs = []\n",
    "    for step_index in range(goal_steps):\n",
    "        # Uncomment this line if you want to see how our bot playing\n",
    "        # env.render()\n",
    "        if len(prev_obs)==0:\n",
    "            action = random.randrange(0,2)\n",
    "        else:\n",
    "            action = np.argmax(trained_model.predict(prev_obs.reshape(-1, len(prev_obs)))[0])\n",
    "        \n",
    "        choices.append(action)\n",
    "        new_observation, reward, done, info = env.step(action)\n",
    "        prev_obs = new_observation\n",
    "        score+=reward   #direct\n",
    "        if done:\n",
    "            break\n",
    "\n",
    "    env.reset()\n",
    "    scores.append(score)\n",
    "    \n",
    "scores2_order = np.sort(scores)\n",
    "avg_scores2 = sum(scores)/len(scores)\n",
    "scores2_order"
   ]
  },
  {
   "cell_type": "markdown",
   "metadata": {},
   "source": [
    "#### 3"
   ]
  },
  {
   "cell_type": "code",
   "execution_count": 13,
   "metadata": {},
   "outputs": [],
   "source": [
    "def model_data_preparation():\n",
    "    training_data = []\n",
    "    accepted_scores = []\n",
    "    for game_index in range(intial_games):\n",
    "        score = 0\n",
    "        game_memory = []\n",
    "        previous_observation = []\n",
    "        for step_index in range(goal_steps):\n",
    "            action = random.randrange(0, 3)\n",
    "            observation, reward, done, info = env.step(action)\n",
    "            \n",
    "            if len(previous_observation) > 0:\n",
    "                game_memory.append([previous_observation, action])\n",
    "                \n",
    "            previous_observation = observation\n",
    "            if observation[0] > -0.3:  #self-defined\n",
    "                reward = 1\n",
    "            \n",
    "            score += reward   \n",
    "            if done:  # done in wiki: position>0.5 \n",
    "                break\n",
    "            \n",
    "        if score >= score_requirement:\n",
    "            accepted_scores.append(score)\n",
    "            for data in game_memory:  # one-hot code\n",
    "                if data[1] == 1:\n",
    "                    output = [0, 1, 0]\n",
    "                elif data[1] == 0:\n",
    "                    output = [1, 0, 0]\n",
    "                elif data[1] == 2:\n",
    "                    output = [0, 0, 1]\n",
    "                training_data.append([data[0], output])\n",
    "        \n",
    "        env.reset()\n",
    "    \n",
    "    print(accepted_scores)\n",
    "    \n",
    "    return training_data"
   ]
  },
  {
   "cell_type": "code",
   "execution_count": 14,
   "metadata": {},
   "outputs": [
    {
     "name": "stdout",
     "output_type": "stream",
     "text": [
      "[-174.0, -168.0, -180.0, -168.0, -188.0, -172.0, -178.0, -166.0, -160.0, -182.0, -168.0, -182.0, -178.0, -148.0, -164.0, -130.0, -178.0, -158.0, -190.0, -162.0, -168.0, -176.0, -198.0, -190.0, -186.0, -174.0, -188.0, -180.0, -180.0, -158.0, -178.0, -196.0, -166.0, -176.0, -156.0, -140.0, -160.0, -186.0, -174.0, -168.0, -154.0, -184.0, -184.0, -178.0, -170.0, -198.0, -186.0, -142.0, -190.0, -186.0, -196.0, -182.0, -190.0, -182.0, -194.0, -176.0, -172.0, -184.0, -188.0, -198.0, -184.0, -178.0, -192.0, -184.0, -150.0, -186.0, -186.0, -186.0, -166.0, -184.0, -188.0, -174.0, -172.0, -162.0, -198.0, -164.0, -190.0, -186.0, -188.0, -174.0, -172.0, -178.0, -162.0, -180.0, -156.0, -186.0, -170.0, -180.0, -192.0, -144.0, -176.0, -166.0, -180.0, -184.0, -160.0, -174.0, -164.0, -144.0, -174.0, -168.0, -168.0, -170.0, -188.0, -160.0, -178.0, -190.0, -174.0, -186.0, -188.0, -176.0, -190.0, -142.0, -176.0, -192.0, -180.0, -170.0, -186.0, -164.0, -166.0, -176.0, -186.0, -182.0, -182.0, -174.0, -168.0, -190.0, -186.0, -176.0, -146.0, -172.0, -172.0, -178.0, -172.0, -194.0, -138.0, -186.0, -152.0, -180.0, -198.0, -164.0, -184.0, -184.0, -172.0, -174.0, -174.0, -162.0, -174.0, -192.0, -156.0, -196.0, -170.0, -146.0, -198.0, -164.0, -158.0, -182.0, -174.0, -174.0, -168.0, -182.0, -188.0, -188.0, -180.0, -178.0, -188.0, -176.0, -172.0, -184.0, -192.0, -150.0, -186.0, -158.0, -180.0, -198.0, -176.0, -150.0, -164.0, -170.0, -188.0, -196.0, -170.0, -176.0, -168.0, -168.0, -192.0, -154.0, -166.0, -174.0, -182.0, -184.0, -176.0, -178.0, -166.0, -176.0, -184.0, -190.0, -178.0, -186.0, -156.0, -164.0, -172.0, -182.0, -184.0, -194.0, -158.0, -182.0, -192.0, -186.0, -170.0, -148.0, -172.0, -192.0, -168.0, -188.0, -182.0, -166.0, -170.0, -176.0, -172.0, -184.0, -182.0, -190.0, -162.0, -192.0, -176.0, -156.0, -180.0, -184.0, -154.0, -140.0, -194.0, -190.0, -166.0, -174.0, -178.0, -194.0, -180.0, -184.0, -188.0, -164.0, -170.0, -172.0, -178.0, -180.0, -188.0, -194.0, -156.0, -174.0, -170.0, -158.0, -174.0, -172.0, -168.0, -186.0, -180.0, -186.0, -182.0, -188.0, -184.0, -186.0, -186.0, -174.0, -186.0, -180.0, -162.0, -170.0, -182.0, -142.0, -198.0, -166.0, -178.0, -176.0, -186.0, -150.0, -182.0, -180.0, -196.0, -198.0, -198.0, -168.0, -178.0, -188.0, -174.0, -180.0, -172.0, -194.0, -164.0, -186.0, -166.0, -158.0, -188.0, -182.0, -170.0, -170.0, -182.0, -180.0, -188.0, -164.0, -182.0, -168.0, -172.0, -166.0, -196.0, -182.0, -178.0, -178.0, -190.0, -180.0, -176.0, -178.0, -180.0, -190.0, -194.0, -166.0, -192.0, -196.0, -188.0, -184.0, -186.0, -172.0, -178.0, -188.0, -190.0, -124.0, -146.0, -164.0, -148.0, -172.0, -182.0, -182.0, -120.0, -180.0, -170.0, -178.0, -180.0, -148.0, -182.0, -156.0, -196.0, -176.0, -188.0, -194.0, -172.0, -176.0, -174.0, -188.0, -168.0, -156.0, -174.0, -178.0, -190.0, -178.0, -184.0, -188.0, -184.0, -182.0, -192.0, -176.0, -188.0, -172.0, -198.0, -180.0, -192.0, -182.0, -174.0, -182.0, -172.0, -178.0, -182.0, -166.0, -178.0, -150.0, -186.0, -136.0, -194.0, -180.0, -198.0, -182.0, -196.0, -180.0, -172.0, -160.0, -160.0, -192.0, -146.0, -182.0, -180.0, -192.0, -194.0, -154.0, -180.0, -172.0, -168.0, -160.0, -176.0, -190.0, -176.0, -144.0, -190.0, -196.0, -176.0, -168.0, -196.0, -162.0, -174.0, -154.0, -190.0, -178.0, -166.0, -168.0, -190.0, -150.0, -186.0, -170.0, -194.0, -188.0, -142.0, -190.0, -170.0, -178.0, -162.0, -178.0, -190.0, -162.0, -168.0, -186.0, -180.0, -190.0, -166.0, -198.0, -194.0, -196.0, -190.0, -164.0, -184.0, -160.0, -178.0, -176.0, -148.0, -178.0, -182.0, -192.0, -188.0, -174.0, -176.0, -168.0, -166.0, -166.0, -190.0, -150.0, -128.0, -172.0, -158.0, -168.0, -174.0, -196.0, -190.0, -160.0, -176.0, -188.0, -164.0, -194.0, -188.0, -178.0, -164.0, -172.0, -160.0, -174.0, -176.0, -158.0, -182.0, -170.0, -180.0, -176.0, -164.0, -168.0, -188.0, -194.0, -176.0, -126.0, -178.0, -162.0, -172.0, -176.0, -194.0, -176.0, -188.0, -160.0, -174.0, -120.0, -190.0, -188.0, -136.0, -168.0, -190.0, -172.0, -186.0, -136.0, -162.0, -188.0, -168.0, -170.0, -198.0, -198.0, -192.0, -188.0, -164.0, -196.0, -156.0, -178.0, -192.0, -180.0, -186.0, -170.0, -172.0, -190.0, -158.0, -186.0, -182.0, -172.0, -158.0, -134.0, -172.0, -176.0, -184.0, -178.0, -146.0, -192.0, -184.0, -188.0, -168.0, -142.0, -190.0, -170.0, -190.0, -168.0, -188.0, -174.0, -188.0, -172.0, -198.0, -182.0, -154.0, -184.0, -196.0, -182.0, -194.0, -192.0, -150.0, -170.0, -144.0, -170.0, -186.0, -166.0, -184.0, -184.0, -186.0, -164.0, -180.0, -170.0, -174.0, -172.0, -184.0, -186.0, -168.0, -178.0, -178.0, -186.0, -170.0, -190.0, -174.0, -180.0, -152.0, -188.0, -186.0, -140.0, -186.0, -198.0, -164.0, -176.0, -178.0, -188.0, -176.0, -190.0, -198.0, -196.0, -132.0, -196.0, -188.0, -160.0, -176.0, -196.0, -194.0, -178.0, -158.0, -188.0, -180.0, -190.0, -172.0, -172.0, -174.0, -174.0, -164.0, -198.0, -170.0, -178.0, -178.0, -180.0, -194.0, -170.0, -188.0, -166.0, -186.0, -192.0, -184.0, -140.0, -186.0, -168.0, -166.0, -178.0, -176.0, -160.0, -182.0, -176.0, -182.0, -164.0, -172.0, -126.0, -184.0, -144.0, -178.0, -178.0, -128.0, -160.0, -160.0, -180.0, -186.0, -140.0, -174.0, -166.0, -168.0, -178.0, -172.0, -162.0, -172.0, -166.0, -192.0, -176.0, -166.0, -186.0, -180.0, -176.0, -166.0, -190.0, -184.0, -176.0, -198.0, -198.0, -178.0, -176.0, -194.0, -168.0, -188.0, -178.0, -168.0, -142.0, -174.0, -158.0, -178.0, -198.0, -174.0, -174.0, -172.0, -162.0, -194.0, -194.0, -158.0, -190.0, -196.0, -172.0, -160.0, -174.0, -168.0, -172.0, -196.0, -190.0, -168.0, -192.0, -164.0, -178.0, -188.0, -160.0, -174.0, -168.0, -192.0, -178.0, -124.0, -184.0, -132.0, -178.0, -196.0, -164.0, -182.0, -154.0, -186.0, -198.0, -160.0, -184.0, -172.0, -182.0, -174.0, -182.0, -186.0, -176.0, -162.0, -194.0, -168.0, -174.0, -186.0, -194.0, -176.0, -136.0, -186.0, -172.0, -180.0, -154.0, -196.0, -188.0, -180.0, -170.0, -184.0, -170.0, -194.0, -180.0, -194.0, -186.0, -180.0, -166.0, -178.0, -184.0, -178.0, -170.0, -180.0, -188.0, -166.0, -176.0, -174.0, -176.0, -166.0, -190.0, -180.0, -180.0, -190.0, -164.0, -166.0, -198.0, -138.0, -188.0, -132.0, -190.0, -182.0, -170.0, -180.0, -158.0, -180.0, -170.0, -182.0, -184.0, -170.0, -188.0, -180.0, -158.0, -166.0, -138.0, -152.0, -178.0, -162.0, -188.0, -158.0, -170.0, -170.0, -196.0, -172.0, -190.0, -172.0, -148.0, -190.0, -192.0, -168.0, -194.0, -168.0, -158.0, -122.0, -184.0, -178.0, -178.0, -150.0, -164.0, -190.0, -186.0, -198.0, -160.0, -176.0, -138.0]\n"
     ]
    }
   ],
   "source": [
    "training_data = model_data_preparation()"
   ]
  },
  {
   "cell_type": "code",
   "execution_count": 15,
   "metadata": {},
   "outputs": [
    {
     "name": "stdout",
     "output_type": "stream",
     "text": [
      "Epoch 1/5\n",
      "159996/159996 [==============================] - 13s 84us/step - loss: 0.1416\n",
      "Epoch 2/5\n",
      "159996/159996 [==============================] - 13s 81us/step - loss: 0.1415\n",
      "Epoch 3/5\n",
      "159996/159996 [==============================] - 14s 89us/step - loss: 0.1300\n",
      "Epoch 4/5\n",
      "159996/159996 [==============================] - 13s 83us/step - loss: 0.1107\n",
      "Epoch 5/5\n",
      "159996/159996 [==============================] - 13s 81us/step - loss: 0.1063\n",
      "Wall time: 1min 20s\n"
     ]
    },
    {
     "data": {
      "text/plain": [
       "array([-200., -200., -200., -200., -200., -200., -200., -153., -149.,\n",
       "       -149., -147., -147., -145., -143., -143., -143., -141., -141.,\n",
       "       -140., -140., -140., -140., -140., -140., -138., -138., -138.,\n",
       "       -138., -137., -137., -137., -137., -137., -137., -136., -136.,\n",
       "       -136., -136., -136., -136., -136., -136., -136., -136., -136.,\n",
       "       -136., -136., -136., -135., -135., -135., -135., -135., -135.,\n",
       "       -135., -134., -134., -134., -134., -134., -134., -133., -132.,\n",
       "       -131., -131., -131., -131., -130., -130., -130., -130., -129.,\n",
       "       -129., -129., -129., -128., -128., -128., -128., -128., -128.,\n",
       "       -127., -126., -126., -126., -126., -126., -126., -126., -126.,\n",
       "       -126., -126., -126., -125., -125., -125., -125., -125., -125.,\n",
       "       -124.])"
      ]
     },
     "execution_count": 15,
     "metadata": {},
     "output_type": "execute_result"
    }
   ],
   "source": [
    "%%time\n",
    "def build_model(input_size, output_size):\n",
    "        model = Sequential()\n",
    "        model.add(Dense(128, input_dim=input_size, activation='relu'))  #initializer\n",
    "        model.add(Dense(52, activation='relu'))\n",
    "        model.add(Dense(output_size, activation='linear'))\n",
    "        model.compile(loss='mean_squared_logarithmic_error', optimizer=Adam()) # keras.losses.categorical_crossentropy\n",
    "\n",
    "        return model\n",
    "\n",
    "def train_model(training_data):\n",
    "    X = np.array([i[0] for i in training_data]).reshape(-1, len(training_data[0][0]))\n",
    "    y = np.array([i[1] for i in training_data]).reshape(-1, len(training_data[0][1]))\n",
    "    model = build_model(input_size=len(X[0]), output_size=len(y[0]))\n",
    "    \n",
    "    model.fit(X, y, epochs=5)   # train\n",
    "    return model\n",
    "\n",
    "trained_model = train_model(training_data)\n",
    "\n",
    "# orginal experiment\n",
    "\n",
    "scores = []\n",
    "choices = []\n",
    "for each_game in range(100):\n",
    "    score = 0\n",
    "    prev_obs = []\n",
    "    for step_index in range(goal_steps):\n",
    "#         Uncomment this line if you want to see how our bot playing\n",
    "#        env.render()\n",
    "        if len(prev_obs)==0:\n",
    "            action = random.randrange(0,2)\n",
    "        else:\n",
    "            action = np.argmax(trained_model.predict(prev_obs.reshape(-1, len(prev_obs)))[0])\n",
    "        \n",
    "        choices.append(action)\n",
    "        new_observation, reward, done, info = env.step(action)\n",
    "        prev_obs = new_observation\n",
    "        score+=reward   #direct\n",
    "        if done:\n",
    "            break\n",
    "\n",
    "    env.reset()\n",
    "    scores.append(score)\n",
    "    \n",
    "scores3_order = np.sort(scores)\n",
    "avg_scores3 = sum(scores)/len(scores)\n",
    "scores3_order"
   ]
  },
  {
   "cell_type": "markdown",
   "metadata": {},
   "source": [
    "#### 4"
   ]
  },
  {
   "cell_type": "code",
   "execution_count": 17,
   "metadata": {},
   "outputs": [],
   "source": [
    "def model_data_preparation():\n",
    "    training_data = []\n",
    "    accepted_scores = []\n",
    "    for game_index in range(intial_games):\n",
    "        score = 0\n",
    "        game_memory = []\n",
    "        previous_observation = []\n",
    "        for step_index in range(goal_steps):\n",
    "            action = random.randrange(0, 3)\n",
    "            observation, reward, done, info = env.step(action)\n",
    "            \n",
    "            if len(previous_observation) > 0:\n",
    "                game_memory.append([previous_observation, action])\n",
    "                \n",
    "            previous_observation = observation\n",
    "            if observation[0] > -0.1:  #self-defined\n",
    "                reward = 1.5\n",
    "            elif observation[0] > -0.2: # #self-defined\n",
    "                reward = 1\n",
    "            elif observation[0] > -0.3: # #self-defined\n",
    "                reward = 0.5\n",
    "            \n",
    "            score += reward   \n",
    "            if done:  # done in wiki: position>0.5 \n",
    "                break\n",
    "            \n",
    "        if score >= score_requirement:\n",
    "            accepted_scores.append(score)\n",
    "            for data in game_memory:  # one-hot code\n",
    "                if data[1] == 1:\n",
    "                    output = [0, 1, 0]\n",
    "                elif data[1] == 0:\n",
    "                    output = [1, 0, 0]\n",
    "                elif data[1] == 2:\n",
    "                    output = [0, 0, 1]\n",
    "                training_data.append([data[0], output])\n",
    "        \n",
    "        env.reset()\n",
    "    \n",
    "    print(accepted_scores)\n",
    "    \n",
    "    return training_data"
   ]
  },
  {
   "cell_type": "code",
   "execution_count": 18,
   "metadata": {},
   "outputs": [
    {
     "name": "stdout",
     "output_type": "stream",
     "text": [
      "[-179.0, -191.0, -171.5, -182.0, -188.0, -168.5, -185.0, -182.0, -185.0, -186.5, -185.0, -182.0, -183.5, -189.5, -185.0, -192.5, -197.0, -183.5, -186.5, -160.0, -194.0, -176.0, -186.5, -186.5, -192.5, -186.5, -183.5, -186.5, -179.0, -183.5, -171.5, -186.5, -171.5, -182.0, -192.5, -147.5, -180.5, -186.5, -177.5, -156.5, -189.5, -189.5, -186.5, -179.0, -182.0, -183.5, -159.5, -188.0, -183.5, -195.5, -182.0, -194.0, -174.5, -160.5, -188.0, -180.5, -176.0, -185.0, -173.0, -182.0, -191.0, -192.5, -185.0, -189.5, -194.0, -180.5, -191.0, -197.0, -185.0, -194.0, -191.0, -189.5, -186.5, -185.0, -183.5, -173.0, -194.0, -173.0, -186.5, -176.0, -192.5, -170.0, -180.5, -173.0, -194.0, -174.5, -165.0, -177.5, -138.0, -192.5, -177.5, -174.5, -176.0, -173.0, -192.5, -191.0, -182.0, -179.0, -189.5, -167.0, -148.5, -153.5, -183.5, -182.0, -173.0, -174.5, -185.0, -185.0, -152.5, -182.0, -174.5, -183.5, -180.5, -194.0, -171.5, -177.5, -195.5, -195.5, -173.0, -183.5, -195.5, -164.0, -183.5, -182.0, -183.5, -185.0, -183.5, -185.0, -191.0, -192.5, -176.0, -141.0, -138.0, -192.5, -183.5, -176.0, -166.0, -188.0, -173.0, -183.5, -182.0, -195.5, -191.0, -195.5, -180.5, -189.5, -197.0, -195.5, -150.5, -182.0, -182.0, -162.5, -174.5, -192.5, -185.0, -186.5, -179.0, -174.5, -186.5, -183.5, -194.0, -185.0, -186.5, -168.5, -179.0, -195.5, -195.5, -192.5, -167.0, -192.5, -168.5, -183.5, -180.5, -183.5, -183.5, -150.5, -195.5, -182.0, -173.0, -174.5, -180.5, -188.0, -164.5, -195.5, -189.5, -156.5, -189.5, -192.5, -191.0, -182.0, -188.0, -194.0, -194.0, -182.0, -176.0, -168.5, -145.0, -189.5, -188.0, -188.0, -179.0, -174.5, -188.0, -182.0, -171.5, -176.0, -185.0, -192.5, -182.0, -192.5, -191.0, -183.5, -173.0, -185.0, -162.5, -179.0, -186.5, -180.5, -186.5, -188.0, -182.0, -191.0, -179.0, -179.0, -188.0, -177.5, -191.0, -197.0, -176.0, -182.0, -174.5, -179.0, -186.5, -185.0, -182.0, -174.5, -179.0, -171.5, -186.5, -188.0, -174.5, -182.0, -179.0, -195.5, -183.5, -185.0, -188.0, -180.5, -173.0, -123.5, -171.5, -174.5, -188.0, -192.5, -176.0, -179.0, -125.5, -185.0, -183.5, -179.0, -185.0, -186.5, -180.5, -188.0, -174.5, -189.5, -188.0, -191.0, -191.0, -186.5, -195.5, -177.5, -185.0, -189.5, -164.0, -170.0, -177.5, -191.0, -192.5, -183.5, -185.0, -161.0, -185.0, -168.5, -180.5, -145.0, -177.5, -174.5, -183.5, -180.5, -194.0, -191.0, -186.5, -180.5, -189.5, -183.5, -191.0, -195.5, -182.0, -180.5, -194.0, -162.5, -177.5, -177.5, -182.0, -182.0, -189.5, -179.0, -135.5, -185.0, -174.5, -189.5, -183.5, -182.0, -161.0, -174.5, -177.5, -182.0, -186.5, -192.5, -182.0, -180.5, -197.0, -174.5, -185.0, -162.5, -191.0, -185.0, -183.5, -155.0, -185.0, -171.5, -182.0, -186.5, -183.5, -197.0, -177.5, -185.0, -197.0, -170.0, -179.0, -176.0, -183.5, -162.0, -166.0, -182.0, -177.5, -186.5, -155.0, -191.0, -179.0, -194.0, -195.5, -162.5, -194.0, -174.5, -186.5, -194.0, -174.5, -171.5, -183.5, -169.5, -183.5, -192.5, -194.0, -186.5, -177.5, -189.5, -182.0, -182.0, -174.5, -197.0, -195.5, -179.0, -192.5, -192.5, -174.5, -167.0, -177.5, -182.0, -180.5, -186.5, -194.0, -171.5, -176.0, -183.5, -186.5, -186.5, -186.5, -177.5, -159.5, -171.5, -177.5, -164.0, -171.5, -182.0, -144.0, -173.0, -179.0, -189.5, -183.5, -182.0, -189.5, -176.0, -179.0, -182.0, -195.5, -188.0, -170.0, -177.5, -182.0, -180.5, -191.0, -185.0, -147.5, -180.5, -191.0, -182.0, -180.5, -173.0, -194.0, -176.0, -195.5, -158.0, -182.0, -182.0, -179.0, -197.0, -191.0, -194.0, -171.5, -162.5, -183.5, -177.5, -176.0, -186.5, -189.5, -183.5, -173.0, -179.0, -182.0, -195.5, -162.5, -180.5, -179.0, -164.0, -174.5, -186.5, -194.0, -191.0, -183.5, -180.5, -188.0, -186.5, -191.0, -194.0, -185.0, -154.5, -183.5, -179.0, -191.0, -185.0, -189.5, -191.0, -165.5, -171.5, -191.0, -164.0, -188.0, -180.5, -186.5, -180.5, -188.0, -195.5, -189.5, -192.5, -182.0, -186.5, -180.5, -183.5, -179.0, -174.5, -179.0, -161.0, -197.0, -170.0, -174.5, -186.5, -195.5, -173.0, -144.5, -197.0, -194.0, -176.0, -153.5, -158.5, -153.0, -176.0, -186.5, -179.0, -176.0, -182.0, -173.0, -171.5, -195.5, -177.5, -188.0, -147.0, -179.0, -183.5, -182.0, -149.5, -195.5, -186.5, -177.5, -179.0, -195.5, -189.5, -179.0, -177.5, -197.0, -191.0, -191.0, -192.5, -183.5, -181.5, -176.0, -194.0, -179.0, -194.0, -185.0, -194.0, -179.0, -182.0, -183.5, -189.5, -191.0, -179.0, -132.5, -176.0, -183.5, -189.5, -183.5, -180.5, -191.0, -195.5, -167.0, -191.0, -176.0, -186.5, -182.0, -153.5, -182.0, -170.0, -173.0, -182.0, -182.0, -176.0, -192.5, -186.5, -189.5, -183.5, -176.0, -180.5, -174.5, -191.0, -192.5, -194.0, -183.5, -186.5, -189.5, -177.5, -195.5, -183.5, -180.5, -189.5, -185.0, -188.0, -156.5, -189.5, -182.0, -183.5, -153.5, -155.0, -185.0, -189.5, -156.5, -174.5, -188.0, -180.5, -188.0, -174.5, -125.5, -182.0, -156.5, -168.5, -189.5, -179.0, -174.5, -185.0, -141.5, -171.5, -149.0, -143.5, -180.5, -173.0, -182.0, -191.0, -185.0, -182.0, -179.0, -191.0, -183.5, -128.0, -188.0, -180.5, -168.0, -183.5, -189.5, -182.0, -166.5, -164.0, -183.5, -188.0, -189.5, -177.5, -179.0, -185.0, -192.5, -180.5, -189.5, -156.5, -191.0, -174.5, -174.5, -188.0, -189.5, -188.0, -194.0, -151.0, -177.5, -194.0, -192.5, -177.5, -194.0, -177.5, -152.0, -167.0, -180.5, -161.0, -180.5, -186.5, -171.5, -153.5, -179.0, -164.0, -173.0, -168.5, -171.5, -192.5, -164.0, -170.0, -197.0, -185.0, -185.0, -175.5, -189.5, -194.0, -183.5, -186.5, -180.5, -182.0, -182.0, -159.0, -177.5, -176.0, -177.5, -158.0, -197.0, -179.0, -179.0, -177.5, -158.5, -192.5, -188.0, -183.5, -182.0, -152.0, -139.0, -183.5, -133.5, -177.5, -165.5, -179.0, -195.5, -167.0, -192.5, -183.5, -176.0, -174.5, -197.0, -171.5, -197.0, -173.0, -170.5, -177.5, -156.5, -197.0, -191.0, -150.5, -188.0, -176.0, -182.0, -189.5, -191.0, -171.5, -179.0, -149.0, -168.5, -192.5, -185.0, -191.0, -177.5, -174.5, -186.5, -191.0, -182.0, -179.0, -170.0, -159.5, -180.5, -170.0, -177.5, -191.0, -182.0, -185.0, -177.5, -179.0, -177.5, -164.0, -149.0, -191.0, -195.5, -183.5, -173.0, -195.5, -189.5]\n"
     ]
    }
   ],
   "source": [
    "training_data = model_data_preparation()"
   ]
  },
  {
   "cell_type": "code",
   "execution_count": 21,
   "metadata": {},
   "outputs": [
    {
     "name": "stdout",
     "output_type": "stream",
     "text": [
      "Epoch 1/5\n",
      "148653/148653 [==============================] - 12s 80us/step - loss: 0.1053\n",
      "Epoch 2/5\n",
      "148653/148653 [==============================] - 12s 80us/step - loss: 0.1048\n",
      "Epoch 3/5\n",
      "148653/148653 [==============================] - 13s 84us/step - loss: 0.1047\n",
      "Epoch 4/5\n",
      "148653/148653 [==============================] - 13s 86us/step - loss: 0.1047\n",
      "Epoch 5/5\n",
      "148653/148653 [==============================] - 13s 89us/step - loss: 0.1046\n",
      "Wall time: 1min 16s\n"
     ]
    },
    {
     "data": {
      "text/plain": [
       "array([-200., -200., -200., -200., -200., -200., -200., -200., -200.,\n",
       "       -200., -200., -200., -200., -200., -200., -200., -200., -157.,\n",
       "       -157., -157., -156., -156., -156., -125., -124., -121., -119.,\n",
       "       -118., -118., -117., -117., -117., -117., -117., -117., -117.,\n",
       "       -117., -117., -117., -117., -117., -117., -116., -116., -116.,\n",
       "       -116., -116., -116., -116., -116., -116., -116., -116., -116.,\n",
       "       -116., -116., -116., -116., -116., -116., -115., -115., -115.,\n",
       "       -115., -115., -115., -115., -115., -115., -115., -115., -115.,\n",
       "       -115., -115., -114., -114., -114., -114., -114., -114., -114.,\n",
       "       -114., -114., -114., -114., -114., -114., -114., -114., -114.,\n",
       "       -114., -114., -113., -113., -113., -113., -113., -113., -113.,\n",
       "       -113.])"
      ]
     },
     "execution_count": 21,
     "metadata": {},
     "output_type": "execute_result"
    }
   ],
   "source": [
    "%%time\n",
    "def build_model(input_size, output_size):\n",
    "        model = Sequential()\n",
    "        model.add(Dense(128, input_dim=input_size, activation='relu'))  #initializer\n",
    "        model.add(Dense(52, activation='relu'))\n",
    "        model.add(Dense(output_size, activation='linear'))\n",
    "        model.compile(loss='logcosh', optimizer=Adam()) # keras.losses.categorical_crossentropy\n",
    "\n",
    "        return model\n",
    "\n",
    "def train_model(training_data):\n",
    "    X = np.array([i[0] for i in training_data]).reshape(-1, len(training_data[0][0]))\n",
    "    y = np.array([i[1] for i in training_data]).reshape(-1, len(training_data[0][1]))\n",
    "    model = build_model(input_size=len(X[0]), output_size=len(y[0]))\n",
    "    \n",
    "    model.fit(X, y, epochs=5)   # train\n",
    "    return model\n",
    "\n",
    "trained_model = train_model(training_data)\n",
    "\n",
    "# orginal experiment\n",
    "\n",
    "scores = []\n",
    "choices = []\n",
    "for each_game in range(100):\n",
    "    score = 0\n",
    "    prev_obs = []\n",
    "    for step_index in range(goal_steps):\n",
    "#         Uncomment this line if you want to see how our bot playing\n",
    "#        env.render()\n",
    "        if len(prev_obs)==0:\n",
    "            action = random.randrange(0,2)\n",
    "        else:\n",
    "            action = np.argmax(trained_model.predict(prev_obs.reshape(-1, len(prev_obs)))[0])\n",
    "        \n",
    "        choices.append(action)\n",
    "        new_observation, reward, done, info = env.step(action)\n",
    "        prev_obs = new_observation\n",
    "        score+=reward   #direct\n",
    "        if done:\n",
    "            break\n",
    "\n",
    "    env.reset()\n",
    "    scores.append(score)\n",
    "    \n",
    "scores4_order = np.sort(scores)\n",
    "avg_scores4 = sum(scores)/len(scores)\n",
    "scores4_order"
   ]
  },
  {
   "cell_type": "markdown",
   "metadata": {},
   "source": [
    "#### 5"
   ]
  },
  {
   "cell_type": "code",
   "execution_count": 31,
   "metadata": {},
   "outputs": [],
   "source": [
    "def model_data_preparation():\n",
    "    training_data = []\n",
    "    accepted_scores = []\n",
    "    for game_index in range(intial_games):\n",
    "        score = 0\n",
    "        game_memory = []\n",
    "        previous_observation = []\n",
    "        for step_index in range(goal_steps):\n",
    "            action = random.randrange(0, 3)\n",
    "            observation, reward, done, info = env.step(action)\n",
    "            \n",
    "            if len(previous_observation) > 0:\n",
    "                game_memory.append([previous_observation, action])\n",
    "                \n",
    "            previous_observation = observation\n",
    "            if observation[0] > -0.1:  #self-defined\n",
    "                reward = 9\n",
    "            elif observation[0] > -0.2: # #self-defined\n",
    "                reward = 0.6\n",
    "            elif observation[0] > -0.3: # #self-defined\n",
    "                reward = 0.3\n",
    "            \n",
    "            score += reward   \n",
    "            if done:  # done in wiki: position>0.5 \n",
    "                break\n",
    "            \n",
    "        if score >= score_requirement:\n",
    "            accepted_scores.append(score)\n",
    "            for data in game_memory:  # one-hot code\n",
    "                if data[1] == 1:\n",
    "                    output = [0, 1, 0]\n",
    "                elif data[1] == 0:\n",
    "                    output = [1, 0, 0]\n",
    "                elif data[1] == 2:\n",
    "                    output = [0, 0, 1]\n",
    "                training_data.append([data[0], output])\n",
    "        \n",
    "        env.reset()\n",
    "    \n",
    "    print(accepted_scores)\n",
    "    \n",
    "    return training_data"
   ]
  },
  {
   "cell_type": "code",
   "execution_count": 32,
   "metadata": {},
   "outputs": [
    {
     "name": "stdout",
     "output_type": "stream",
     "text": [
      "[-194.8, -184.39999999999986, -196.09999999999997, -180.49999999999983, -179.19999999999982, -189.5999999999999, -188.3, -154.29999999999987, -192.19999999999993, -194.79999999999995, -150.0999999999999, -159.70000000000007, -190.89999999999992, -190.90000000000003, -197.39999999999998, -189.5999999999999, -194.79999999999995, -185.70000000000005, -181.79999999999984, -197.39999999999998, -157.09999999999985, -171.40000000000006, -183.10000000000002, -176.59999999999985, -193.49999999999994, -193.49999999999994, -186.9999999999999, -197.39999999999998, -190.90000000000003, -176.59999999999985, -187.00000000000003, -190.89999999999998, -179.19999999999982, -185.69999999999987, -172.50000000000006, -172.6999999999998, -186.9999999999999, -181.79999999999984, -196.09999999999997, -184.39999999999986, -192.20000000000002, -189.5999999999999, -194.8, -167.39999999999998, -194.79999999999995, -185.69999999999987, -181.7999999999999, -196.09999999999997, -189.5999999999999, -189.5999999999999, -188.2999999999999, -197.39999999999998, -181.79999999999984, -196.09999999999997, -194.79999999999995, -194.79999999999995, -186.9999999999999, -192.19999999999993, -188.2999999999999, -164.5, -185.69999999999987, -155.80000000000007, -188.2999999999999, -180.49999999999983, -175.29999999999978, -193.49999999999994, -186.9999999999999, -185.69999999999987, -188.2999999999999, -180.49999999999983, -179.19999999999982, -189.5999999999999, -184.39999999999986, -189.5999999999999, -180.49999999999983, -190.89999999999992, -180.49999999999983, -193.49999999999994, -181.79999999999984, -154.49999999999986, -173.99999999999977, -186.9999999999999, -190.89999999999992, -158.4000000000001, -189.5999999999999, -196.09999999999997, -179.19999999999982, -190.89999999999998, -185.69999999999987, -193.49999999999994, -196.09999999999997, -186.9999999999999, -189.5999999999999, -179.19999999999987, -171.3999999999998, -184.39999999999986, -190.89999999999992, -186.9999999999999, -194.8, -188.2999999999999, -175.29999999999978, -189.29999999999993, -188.2999999999999, -175.3, -189.5999999999999, -179.19999999999982, -176.5999999999998, -196.09999999999997, -166.20000000000007, -189.5999999999999, -184.39999999999986, -190.89999999999992, -180.49999999999986, -185.70000000000005, -181.79999999999984, -180.49999999999983, -164.89999999999984, -194.79999999999995, -181.80000000000004, -192.19999999999993, -196.09999999999997, -176.60000000000005, -167.50000000000006, -184.39999999999986, -184.39999999999986, -183.09999999999985, -184.39999999999986, -176.5999999999998, -196.09999999999997, -185.69999999999987, -154.59999999999988, -173.09999999999982, -181.79999999999984, -180.49999999999991, -184.39999999999986, -194.79999999999995, -183.0999999999999, -189.5999999999999, -194.79999999999995, -162.29999999999978, -166.19999999999982, -188.2999999999999, -183.09999999999985, -188.29999999999995, -180.49999999999983, -180.49999999999983, -184.39999999999986, -193.49999999999994, -193.49999999999994, -185.69999999999987, -188.2999999999999, -185.69999999999987, -188.2999999999999, -186.9999999999999, -167.50000000000006, -180.49999999999983, -193.49999999999994, -179.19999999999993, -177.89999999999998, -186.9999999999999, -176.5999999999998, -179.19999999999982, -86.40000000000009, -180.49999999999983, -173.99999999999977, -183.10000000000002, -188.2999999999999, -189.5999999999999, -190.89999999999992, -181.79999999999984, -192.19999999999993, -181.79999999999984, -194.79999999999995, -179.19999999999982, -164.9000000000001, -175.29999999999978, -177.8999999999998, -192.19999999999993, -183.09999999999985, -193.49999999999994, -184.39999999999986, -181.79999999999984, -192.19999999999993, -189.5999999999999, -186.9999999999999, -189.5999999999999, -159.30000000000013, -192.19999999999993, -189.5999999999999, -197.39999999999998, -197.39999999999998, -177.8999999999998, -190.89999999999992, -183.09999999999985, -197.39999999999998, -189.5999999999999, -190.89999999999992, -167.4999999999999, -184.39999999999986, -177.8999999999998, -180.49999999999983, -188.3, -180.49999999999983, -192.19999999999993, -150.00000000000014, -159.69999999999982, -183.09999999999985, -164.89999999999986, -188.2999999999999, -176.5999999999998, -190.89999999999992, -185.7, -179.19999999999982, -177.8999999999998, -179.19999999999982, -168.79999999999984, -183.09999999999985, -185.69999999999987, -197.39999999999998, -193.49999999999994, -181.79999999999984, -180.49999999999983, -177.8999999999998, -186.9999999999999, -189.5999999999999, -179.19999999999982, -184.39999999999986, -193.49999999999994, -184.39999999999986, -186.9999999999999, -188.3, -184.39999999999992, -172.69999999999976, -190.89999999999992, -193.49999999999994, -186.9999999999999, -184.39999999999986, -183.09999999999985, -185.69999999999987, -184.39999999999986, -184.39999999999986, -186.9999999999999, -190.90000000000003, -183.09999999999994, -188.2999999999999, -186.9999999999999, -177.8999999999998, -189.5999999999999, -184.40000000000003, -176.5999999999998, -186.9999999999999, -184.39999999999986, -177.8999999999998, -184.39999999999986, -194.79999999999995, -190.89999999999992, -189.5999999999999, -179.19999999999982, -181.79999999999984, -196.09999999999997, -184.39999999999986, -185.69999999999987, -179.20000000000005, -172.69999999999976, -193.49999999999994, -192.19999999999993, -159.5000000000001, -192.19999999999993, -173.99999999999977, -188.2999999999999, -196.10000000000002, -184.39999999999986, -177.90000000000003, -189.5999999999999, -189.5999999999999, -197.4, -184.39999999999992, -192.19999999999993, -193.5, -190.89999999999992, -175.29999999999978, -190.90000000000003, -186.9999999999999, -162.29999999999993, -194.8, -184.39999999999986, -184.40000000000003, -147.29999999999998, -194.79999999999995, -190.89999999999992, -197.39999999999998, -176.5999999999998, -190.90000000000003, -192.19999999999993, -171.3999999999998, -170.09999999999985, -192.19999999999993, -183.09999999999985, -185.69999999999987, -173.9999999999999, -184.40000000000003, -196.10000000000002, -158.4000000000001, -183.09999999999985, -185.69999999999987, -189.5999999999999, -190.89999999999992, -192.20000000000002, -180.49999999999983, -179.19999999999987, -181.79999999999984, -183.10000000000002, -170.89999999999998, -193.49999999999994, -184.40000000000003, -184.39999999999986, -176.5999999999998, -192.19999999999993, -184.39999999999986, -171.90000000000003, -184.39999999999986, -157.10000000000008, -184.39999999999986, -189.5999999999999, -181.79999999999984, -162.30000000000007, -181.79999999999984, -179.19999999999982, -190.89999999999992, -190.89999999999992, -185.70000000000005, -145.80000000000007, -190.89999999999992, -194.79999999999995, -186.9999999999999, -192.20000000000002, -179.19999999999982, -184.39999999999986, -196.09999999999997, -186.9999999999999, -180.49999999999983, -186.9999999999999, -189.5999999999999, -186.9999999999999, -148.00000000000014, -188.2999999999999, -190.90000000000003, -189.5999999999999, -192.19999999999993, -183.09999999999985, -197.4, -190.89999999999992, -160.99999999999983, -188.2999999999999, -167.49999999999986, -196.09999999999997, -196.10000000000002, -180.49999999999983, -177.8999999999998, -193.49999999999994, -175.29999999999984, -186.9999999999999, -181.79999999999984, -180.49999999999986, -165.6, -183.0999999999999, -186.9999999999999, -194.79999999999995, -180.49999999999983, -188.2999999999999, -197.39999999999998, -176.5999999999998, -167.49999999999986, -164.89999999999978, -186.9999999999999, -188.29999999999995, -167.49999999999991, -186.9999999999999, -179.19999999999982, -190.89999999999992, -181.80000000000004, -197.39999999999998, -181.79999999999984, -180.49999999999983, -194.79999999999995, -192.19999999999993, -188.2999999999999, -180.49999999999983, -184.39999999999986, -192.2, -176.5999999999998, -188.2999999999999, -153.60000000000002, -180.49999999999983, -179.19999999999982, -181.79999999999984, -184.39999999999986, -177.8999999999998, -192.20000000000002, -175.29999999999978, -190.89999999999992, -183.09999999999985, -181.80000000000004, -177.90000000000003, -181.79999999999984, -190.89999999999992, -184.39999999999992, -190.89999999999992, -190.89999999999992, -186.9999999999999, -185.69999999999987, -184.39999999999986, -177.8999999999998, -194.79999999999995, -188.2999999999999, -185.70000000000005, -194.79999999999995, -186.9999999999999, -188.2999999999999, -185.69999999999987, -192.19999999999993, -177.8999999999998, -183.09999999999997, -183.09999999999985, -196.09999999999997, -185.69999999999987, -190.89999999999992, -177.8999999999998, -167.49999999999994, -190.89999999999992, -181.8, -190.89999999999992, -161.1, -167.0999999999999, -179.19999999999982, -186.9999999999999, -171.39999999999975, -185.69999999999987, -173.99999999999977, -193.49999999999994, -197.39999999999998, -181.79999999999984, -186.9999999999999, -181.80000000000004, -173.99999999999977, -183.09999999999985, -153.8, -170.90000000000003, -189.5999999999999, -192.19999999999993, -194.79999999999995, -197.4, -181.79999999999984, -194.79999999999995, -185.69999999999987, -184.39999999999986, -170.09999999999985, -196.09999999999997, -183.09999999999985, -184.39999999999986, -184.39999999999986, -185.69999999999987, -185.69999999999987, -186.9999999999999, -181.79999999999984, -190.89999999999992, -190.89999999999992, -181.79999999999995, -176.5999999999998, -194.79999999999995, -184.39999999999986, -188.2999999999999, -187.0, -193.49999999999994, -175.30000000000007, -176.5999999999998, -194.79999999999995, -192.19999999999993, -185.69999999999987, -166.19999999999993, -188.2999999999999, -180.49999999999983, -190.89999999999992, -186.9999999999999, -196.09999999999997, -172.69999999999982, -192.19999999999993, -183.09999999999985, -188.2999999999999, -144.70000000000016, -186.9999999999999, -181.79999999999984, -176.60000000000005, -181.79999999999984, -162.30000000000013, -180.49999999999983, -189.5999999999999, -183.09999999999985, -192.19999999999993, -177.8999999999998, -161.00000000000009, -179.1999999999999, -197.39999999999998, -177.8999999999998, -190.89999999999992, -181.79999999999984, -184.39999999999986, -168.7999999999999, -192.19999999999993, -168.89999999999992, -197.39999999999998, -194.79999999999995, -177.89999999999992, -167.79999999999995, -179.19999999999982, -186.9999999999999, -177.90000000000003, -183.09999999999985, -151.60000000000008, -171.40000000000006, -173.99999999999994, -176.5999999999998, -172.19999999999987, -185.69999999999987, -189.5999999999999, -189.5999999999999, -186.9999999999999, -185.70000000000005, -180.49999999999983, -186.9999999999999, -194.79999999999995, -194.79999999999995, -177.8999999999998, -194.8, -173.99999999999991, -193.49999999999994, -162.30000000000007, -176.5999999999998, -193.49999999999994, -188.2999999999999, -183.09999999999985, -186.9999999999999, -189.5999999999999, -183.10000000000002, -171.39999999999992, -181.79999999999984, -184.39999999999986, -180.49999999999983, -184.39999999999986, -153.2000000000001, -194.79999999999995, -183.09999999999985, -189.60000000000002, -185.69999999999987, -186.39999999999992, -166.79999999999993, -188.2999999999999, -189.5999999999999, -183.09999999999985, -190.89999999999992, -183.09999999999985, -180.49999999999983, -189.5999999999999, -176.5999999999998, -192.19999999999993, -181.79999999999995, -181.79999999999984, -186.9999999999999, -183.09999999999985, -190.89999999999998, -192.19999999999993, -184.39999999999986, -194.79999999999995, -183.09999999999985, -181.79999999999984, -196.09999999999997, -185.69999999999987, -189.59999999999994, -190.89999999999992, -193.49999999999994, -184.39999999999986, -183.09999999999985, -193.49999999999994, -190.89999999999992, -188.2999999999999, -166.79999999999993, -176.5999999999998, -196.09999999999997, -197.39999999999998, -181.79999999999984, -179.19999999999982, -186.9999999999999, -194.79999999999995, -188.2999999999999, -175.79999999999993, -189.5999999999999, -177.8999999999998, -197.39999999999998, -190.89999999999992, -175.29999999999978, -193.49999999999994, -183.09999999999985, -192.19999999999993, -194.8, -188.2999999999999, -181.79999999999984, -189.5999999999999, -196.10000000000002, -188.2999999999999, -173.99999999999977, -177.8999999999998, -193.49999999999994, -167.4999999999999, -183.09999999999985, -171.19999999999985, -181.79999999999984, -154.09999999999997, -189.5999999999999, -192.19999999999993, -192.19999999999993, -189.5999999999999, -177.8999999999998, -179.19999999999982, -192.19999999999993, -176.5999999999998, -189.5999999999999, -186.9999999999999, -194.79999999999995, -188.2999999999999, -180.49999999999983, -188.2999999999999, -189.5999999999999, -171.40000000000006, -181.79999999999984, -184.39999999999986, -180.49999999999983, -188.2999999999999, -193.49999999999994, -180.49999999999983, -183.0999999999999, -183.09999999999985, -189.5999999999999, -175.29999999999978, -167.8000000000001, -166.20000000000007, -196.09999999999997, -192.19999999999993, -193.49999999999994, -194.79999999999995, -179.19999999999982, -170.4999999999998, -181.79999999999984, -183.10000000000002, -162.29999999999984, -194.79999999999995, -177.8999999999998, -181.79999999999984, -192.19999999999993, -168.80000000000007, -197.39999999999998, -190.89999999999992, -186.9999999999999, -194.79999999999995, -181.79999999999995, -175.29999999999978, -192.19999999999993, -179.19999999999982, -189.5999999999999, -184.39999999999986, -194.79999999999995, -174.7999999999999, -176.5999999999998, -177.90000000000003, -171.3999999999999, -186.9999999999999, -183.09999999999985, -192.19999999999993, -170.19999999999982, -189.5999999999999, -171.19999999999985, -185.69999999999987, -183.09999999999985, -181.80000000000004, -185.70000000000005, -185.69999999999987, -176.5999999999998, -158.4000000000001, -181.79999999999984, -186.9999999999999, -179.19999999999982, -173.9999999999999, -192.19999999999993, -197.39999999999998, -190.89999999999992, -181.79999999999984, -175.29999999999978, -189.5999999999999, -172.69999999999976, -196.09999999999997, -180.49999999999983, -146.20000000000013, -196.09999999999997, -183.09999999999985, -175.29999999999978, -183.09999999999985, -186.9999999999999, -184.39999999999986, -183.09999999999985, -181.79999999999984, -180.49999999999983, -186.9999999999999, -184.39999999999986, -169.29999999999993, -183.09999999999985, -170.59999999999988, -180.49999999999983, -196.09999999999997, -184.39999999999986, -184.40000000000003, -185.69999999999987, -172.69999999999982, -194.79999999999995, -192.19999999999993, -192.19999999999993, -175.2999999999999, -177.89999999999992, -184.39999999999992, -176.5999999999998, -171.4, -185.6999999999999, -189.5999999999999, -159.0, -186.9999999999999, -180.49999999999983, -170.09999999999997, -179.19999999999982, -174.00000000000006, -179.19999999999982, -171.40000000000006, -186.9999999999999, -170.09999999999985, -189.5999999999999, -188.2999999999999, -185.69999999999987, -181.79999999999984, -190.89999999999992, -183.09999999999985, -190.89999999999992, -186.9999999999999, -186.9999999999999, -196.09999999999997, -183.09999999999985, -183.09999999999985, -189.5999999999999, -193.49999999999994, -194.79999999999995, -166.19999999999993, -173.99999999999977, -169.59999999999985, -183.09999999999985, -185.6999999999999, -184.39999999999986, -186.9999999999999, -188.2999999999999, -197.39999999999998, -189.5999999999999, -183.09999999999985, -188.2999999999999, -181.79999999999984, -179.19999999999982, -175.29999999999987, -176.5999999999998, -176.5999999999998, -179.20000000000005, -192.19999999999993, -185.69999999999987, -186.99999999999994, -179.19999999999982, -194.79999999999995, -183.09999999999985, -181.79999999999984, -150.7000000000001, -187.00000000000003, -185.69999999999987, -155.7999999999999, -181.79999999999984, -184.39999999999986, -196.10000000000002, -196.09999999999997, -193.49999999999994, -196.09999999999997, -164.9000000000001, -186.9999999999999, -186.9999999999999, -197.39999999999998, -184.40000000000003, -194.79999999999995, -192.19999999999993, -194.79999999999995, -185.69999999999987, -186.9999999999999, -192.19999999999993, -188.2999999999999, -196.09999999999997, -181.79999999999984, -192.19999999999993, -183.09999999999985, -183.09999999999985, -167.50000000000006]\n"
     ]
    }
   ],
   "source": [
    "training_data = model_data_preparation()"
   ]
  },
  {
   "cell_type": "code",
   "execution_count": 33,
   "metadata": {},
   "outputs": [
    {
     "name": "stdout",
     "output_type": "stream",
     "text": [
      "Epoch 1/5\n",
      "160991/160991 [==============================] - 14s 88us/step - loss: 0.8873\n",
      "Epoch 2/5\n",
      "160991/160991 [==============================] - 14s 89us/step - loss: 0.8850\n",
      "Epoch 3/5\n",
      "160991/160991 [==============================] - 15s 91us/step - loss: 0.8843\n",
      "Epoch 4/5\n",
      "160991/160991 [==============================] - 16s 99us/step - loss: 0.8837\n",
      "Epoch 5/5\n",
      "160991/160991 [==============================] - 15s 92us/step - loss: 0.8834\n",
      "Wall time: 1min 25s\n"
     ]
    },
    {
     "data": {
      "text/plain": [
       "array([-146., -145., -143., -138., -138., -136., -135., -132., -130.,\n",
       "       -130., -128., -127., -127., -127., -127., -127., -127., -127.,\n",
       "       -127., -127., -127., -127., -127., -127., -127., -127., -127.,\n",
       "       -127., -127., -127., -127., -127., -127., -127., -127., -127.,\n",
       "       -127., -127., -127., -127., -126., -126., -126., -126., -126.,\n",
       "       -126., -126., -126., -126., -126., -126., -126., -126., -126.,\n",
       "       -126., -126., -126., -126., -126., -126., -126., -126., -126.,\n",
       "       -126., -126., -126., -126., -125., -125., -125., -125., -125.,\n",
       "       -125., -125., -125., -125., -125., -125., -125., -125., -125.,\n",
       "       -125., -125., -125., -124., -124., -121., -108.,  -99.,  -98.,\n",
       "        -97.,  -96.,  -95.,  -94.,  -91.,  -91.,  -90.,  -87.,  -87.,\n",
       "        -86.])"
      ]
     },
     "execution_count": 33,
     "metadata": {},
     "output_type": "execute_result"
    }
   ],
   "source": [
    "%%time\n",
    "def build_model(input_size, output_size):\n",
    "        model = Sequential()\n",
    "        model.add(Dense(128, input_dim=input_size, activation='relu'))  #initializer\n",
    "        model.add(Dense(52, activation='relu'))\n",
    "        model.add(Dense(output_size, activation='linear'))\n",
    "        model.compile(loss='squared_hinge', optimizer=Adam()) # keras.losses.categorical_crossentropy\n",
    "\n",
    "        return model\n",
    "\n",
    "def train_model(training_data):\n",
    "    X = np.array([i[0] for i in training_data]).reshape(-1, len(training_data[0][0]))\n",
    "    y = np.array([i[1] for i in training_data]).reshape(-1, len(training_data[0][1]))\n",
    "    model = build_model(input_size=len(X[0]), output_size=len(y[0]))\n",
    "    \n",
    "    model.fit(X, y, epochs=5)   # train\n",
    "    return model\n",
    "\n",
    "trained_model = train_model(training_data)\n",
    "\n",
    "# orginal experiment\n",
    "\n",
    "scores = []\n",
    "choices = []\n",
    "for each_game in range(100):\n",
    "    score = 0\n",
    "    prev_obs = []\n",
    "    for step_index in range(goal_steps):\n",
    "#         Uncomment this line if you want to see how our bot playing\n",
    "#        env.render()\n",
    "        if len(prev_obs)==0:\n",
    "            action = random.randrange(0,2)\n",
    "        else:\n",
    "            action = np.argmax(trained_model.predict(prev_obs.reshape(-1, len(prev_obs)))[0])\n",
    "        \n",
    "        choices.append(action)\n",
    "        new_observation, reward, done, info = env.step(action)\n",
    "        prev_obs = new_observation\n",
    "        score+=reward   #direct\n",
    "        if done:\n",
    "            break\n",
    "\n",
    "    env.reset()\n",
    "    scores.append(score)\n",
    "    \n",
    "scores5_order = np.sort(scores)\n",
    "avg_scores5 = sum(scores)/len(scores)\n",
    "scores5_order"
   ]
  },
  {
   "cell_type": "markdown",
   "metadata": {},
   "source": [
    "#### 6"
   ]
  },
  {
   "cell_type": "code",
   "execution_count": 47,
   "metadata": {},
   "outputs": [],
   "source": [
    "def model_data_preparation():\n",
    "    training_data = []\n",
    "    accepted_scores = []\n",
    "    for game_index in range(intial_games):\n",
    "        score = 0\n",
    "        game_memory = []\n",
    "        previous_observation = []\n",
    "        for step_index in range(goal_steps):\n",
    "            action = random.randrange(0, 3)\n",
    "            observation, reward, done, info = env.step(action)\n",
    "            \n",
    "            if len(previous_observation) > 0:\n",
    "                game_memory.append([previous_observation, action])\n",
    "                \n",
    "            previous_observation = observation\n",
    "            if observation[0] > -0.1:  #self-defined\n",
    "                reward = 9\n",
    "            elif observation[0] > -0.2: # #self-defined\n",
    "                reward = 0.6\n",
    "            elif observation[0] > -0.3: # #self-defined\n",
    "                reward = 0.3\n",
    "            \n",
    "            score += reward   \n",
    "            if done:  # done in wiki: position>0.5 \n",
    "                break\n",
    "            \n",
    "        if score >= score_requirement:\n",
    "            accepted_scores.append(score)\n",
    "            for data in game_memory:  # one-hot code\n",
    "                if data[1] == 1:\n",
    "                    output = [0, 1, 0]\n",
    "                elif data[1] == 0:\n",
    "                    output = [1, 0, 0]\n",
    "                elif data[1] == 2:\n",
    "                    output = [0, 0, 1]\n",
    "                training_data.append([data[0], output])\n",
    "        \n",
    "        env.reset()\n",
    "    \n",
    "    print(accepted_scores)\n",
    "    \n",
    "    return training_data"
   ]
  },
  {
   "cell_type": "code",
   "execution_count": 48,
   "metadata": {},
   "outputs": [
    {
     "name": "stdout",
     "output_type": "stream",
     "text": [
      "[-193.49999999999994, -149.2999999999998, -172.6999999999999, -183.09999999999985, -183.09999999999985, -197.39999999999998, -188.2999999999999, -197.4, -180.49999999999983, -188.29999999999995, -188.2999999999999, -197.39999999999998, -167.50000000000006, -197.4, -193.49999999999994, -197.39999999999998, -167.49999999999986, -184.39999999999986, -176.5999999999999, -196.09999999999997, -181.79999999999984, -175.29999999999978, -179.19999999999982, -192.19999999999993, -184.39999999999986, -185.7, -190.89999999999992, -185.69999999999987, -171.39999999999998, -185.69999999999987, -171.39999999999986, -158.4000000000001, -186.9999999999999, -183.09999999999985, -184.39999999999986, -186.9999999999999, -179.19999999999982, -197.39999999999998, -186.9999999999999, -190.89999999999992, -197.39999999999998, -194.79999999999995, -194.79999999999995, -193.49999999999994, -184.40000000000003, -184.40000000000003, -189.5999999999999, -192.19999999999993, -196.09999999999997, -177.8999999999998, -194.79999999999995, -164.89999999999986, -179.19999999999982, -193.49999999999994, -192.19999999999993, -179.19999999999996, -197.39999999999998, -181.79999999999984, -177.8999999999998, -184.39999999999986, -180.49999999999983, -176.5999999999998, -183.10000000000002, -189.5999999999999, -194.79999999999995, -175.29999999999978, -177.89999999999986, -184.39999999999995, -192.2, -194.79999999999995, -184.39999999999986, -194.79999999999995, -163.60000000000008, -184.39999999999986, -197.39999999999998, -189.5999999999999, -192.19999999999993, -193.5, -185.69999999999987, -189.5999999999999, -179.19999999999982, -192.19999999999993, -192.19999999999993, -189.5999999999999, -185.79999999999995, -189.5999999999999, -181.79999999999984, -190.90000000000003, -185.69999999999987, -166.29999999999984, -185.69999999999987, -180.49999999999983, -185.69999999999987, -181.79999999999984, -180.49999999999983, -183.09999999999985, -180.49999999999983, -183.09999999999985, -197.39999999999998, -181.80000000000004, -176.5999999999998, -186.9999999999999, -180.49999999999986, -193.5, -184.39999999999986, -196.09999999999997, -193.5, -181.79999999999984, -186.9999999999999, -197.39999999999998, -186.9999999999999, -186.9999999999999, -188.2999999999999, -171.3999999999999, -190.90000000000003, -193.49999999999994, -167.39999999999998, -192.19999999999993, -177.89999999999992, -163.29999999999995, -164.9000000000001, -171.5999999999999, -154.4, -188.2999999999999, -185.69999999999987, -192.19999999999993, -194.79999999999995, -194.8, -183.09999999999985, -184.40000000000003, -189.60000000000002, -189.5999999999999, -184.39999999999986, -188.2999999999999, -175.29999999999978, -192.19999999999993, -189.6, -196.09999999999997, -170.59999999999988, -186.9999999999999, -186.9999999999999, -167.5, -185.69999999999987, -189.5999999999999, -181.79999999999984, -177.8999999999998, -194.79999999999995, -192.19999999999993, -183.09999999999985, -190.89999999999992, -186.9999999999999, -180.49999999999983, -189.5999999999999, -189.5999999999999, -185.69999999999987, -173.99999999999977, -180.50000000000006, -180.50000000000006, -186.9999999999999, -184.39999999999986, -188.2999999999999, -172.0999999999998, -197.39999999999998, -177.89999999999992, -184.39999999999986, -183.09999999999985, -177.8999999999998, -185.69999999999987, -190.89999999999992, -181.79999999999984, -181.79999999999984, -184.39999999999986, -194.79999999999995, -186.9999999999999, -192.19999999999993, -179.19999999999982, -177.89999999999992, -197.39999999999998, -193.49999999999994, -192.19999999999993, -194.79999999999995, -193.49999999999994, -186.9999999999999, -196.09999999999997, -181.79999999999984, -184.39999999999986, -157.10000000000008, -185.69999999999987, -180.49999999999983, -180.49999999999983, -181.79999999999984, -180.49999999999983, -177.8999999999998, -175.29999999999978, -176.5999999999998, -190.89999999999992, -185.69999999999987, -193.49999999999994, -179.19999999999982, -188.2999999999999, -179.19999999999982, -192.19999999999993, -160.80000000000007, -190.89999999999992, -179.19999999999982, -190.89999999999992, -161.30000000000013, -172.69999999999976, -192.19999999999993, -160.99999999999991, -189.5999999999999, -159.7000000000001, -164.59999999999997, -196.09999999999997, -179.19999999999982, -196.09999999999997, -181.79999999999984, -184.39999999999986, -186.9999999999999, -179.20000000000005, -184.39999999999986, -175.29999999999978, -167.50000000000003, -181.79999999999984, -193.49999999999994, -186.9999999999999, -180.49999999999983, -193.5, -154.5000000000001, -185.69999999999987, -192.19999999999993, -176.5999999999998, -183.09999999999985, -192.19999999999993, -181.79999999999998, -183.09999999999985, -184.39999999999986, -190.89999999999992, -181.79999999999984, -192.20000000000002, -192.20000000000002, -197.39999999999998, -193.49999999999994, -184.40000000000003, -170.4999999999999, -188.3, -173.99999999999977, -193.49999999999994, -175.29999999999978, -184.39999999999986, -189.5999999999999, -162.29999999999984, -186.9999999999999, -183.09999999999985, -154.40000000000012, -184.39999999999986, -180.49999999999983, -184.39999999999995, -171.39999999999984, -192.20000000000002, -190.89999999999992, -188.2999999999999, -194.79999999999995, -190.89999999999992, -185.69999999999987, -181.79999999999984, -186.9999999999999, -186.9999999999999, -170.2999999999999, -192.19999999999993, -186.9999999999999, -189.5999999999999, -188.2999999999999, -189.5999999999999, -197.39999999999998, -186.9999999999999, -177.8999999999998, -171.39999999999986, -194.79999999999995, -189.5999999999999, -184.39999999999986, -172.6999999999999, -180.49999999999986, -172.7, -179.19999999999982, -177.90000000000003, -184.39999999999986, -183.10000000000002, -185.69999999999987, -173.99999999999977, -184.39999999999986, -186.9999999999999, -192.20000000000002, -190.89999999999992, -180.49999999999983, -180.50000000000006, -188.2999999999999, -176.59999999999982, -184.39999999999986, -175.3, -196.09999999999997, -186.9999999999999, -192.19999999999993, -184.39999999999986, -181.79999999999984, -194.79999999999995, -185.69999999999987, -184.39999999999986, -194.79999999999995, -184.39999999999986, -188.2999999999999, -194.8, -192.19999999999993, -184.39999999999986, -175.29999999999978, -185.69999999999987, -192.19999999999993, -181.79999999999984, -193.49999999999994, -180.49999999999983, -193.49999999999994, -179.19999999999982, -183.10000000000002, -190.89999999999992, -180.49999999999983, -193.49999999999994, -180.49999999999983, -185.69999999999987, -192.19999999999993, -189.5999999999999, -176.5999999999998, -177.8999999999998, -162.30000000000007, -183.09999999999985, -193.49999999999994, -192.19999999999993, -194.79999999999995, -190.89999999999992, -183.09999999999985, -159.7000000000001, -192.19999999999993, -188.2999999999999, -175.2999999999999, -196.09999999999997, -183.09999999999985, -173.3999999999998, -181.79999999999984, -173.3999999999998, -186.99999999999994, -188.2999999999999, -188.2999999999999, -155.8000000000001, -190.89999999999998, -186.9999999999999, -193.49999999999994, -177.8999999999998, -181.79999999999984, -193.49999999999994, -188.2999999999999, -190.90000000000003, -194.79999999999995, -180.49999999999983, -184.39999999999986, -162.29999999999978, -161.00000000000009, -181.79999999999984, -176.5999999999998, -187.00000000000003, -168.29999999999984, -180.49999999999986, -176.5999999999998, -177.8999999999998, -194.79999999999995, -181.79999999999984, -183.09999999999985, -177.8999999999998, -184.39999999999986, -171.40000000000006, -179.19999999999982, -184.39999999999986, -184.39999999999986, -186.99999999999994, -181.79999999999984, -180.49999999999983, -186.9999999999999, -183.09999999999985, -194.79999999999995, -179.19999999999982, -184.39999999999986, -183.09999999999985, -177.8999999999998, -176.5999999999998, -185.69999999999987, -190.89999999999992, -197.4, -192.19999999999993, -167.50000000000006, -193.49999999999994, -180.49999999999983, -175.29999999999978, -177.8999999999998, -167.49999999999983, -186.9999999999999, -196.09999999999997, -181.79999999999984, -179.19999999999982, -197.39999999999998, -184.40000000000003, -179.19999999999996, -192.20000000000002, -192.19999999999993, -197.39999999999998, -177.90000000000003, -153.60000000000008, -196.09999999999997, -188.2999999999999, -192.19999999999993, -181.79999999999984, -158.4000000000001, -149.30000000000013, -185.69999999999987, -196.09999999999997, -196.09999999999997, -189.5999999999999, -185.69999999999987, -168.80000000000007, -194.79999999999995, -171.19999999999985, -192.20000000000002, -181.80000000000004, -179.19999999999993, -186.9999999999999, -186.9999999999999, -189.5999999999999, -188.2999999999999, -173.99999999999977, -193.49999999999994, -194.79999999999995, -175.29999999999978, -185.69999999999987, -196.09999999999997, -176.60000000000005, -175.30000000000004, -188.2999999999999, -172.7, -173.3999999999999, -193.49999999999994, -177.8999999999998, -181.79999999999984, -186.9999999999999, -185.69999999999987, -153.5000000000001, -167.69999999999987, -192.19999999999993, -175.29999999999978, -158.4000000000001, -179.20000000000005, -193.49999999999994, -162.99999999999997, -183.0999999999999, -194.79999999999995, -194.79999999999995, -196.09999999999997, -184.39999999999986, -175.29999999999978, -188.2999999999999, -167.49999999999997, -186.9999999999999, -190.89999999999992, -196.09999999999997, -193.49999999999994, -188.2999999999999, -186.9999999999999, -175.29999999999978, -179.19999999999982, -194.79999999999995, -193.49999999999994, -181.79999999999984, -159.7000000000001, -196.09999999999997, -194.79999999999995, -176.5999999999998, -154.5000000000001, -153.80000000000004, -192.19999999999993, -181.79999999999984, -194.79999999999995, -183.09999999999985, -179.2, -192.19999999999993, -155.7999999999999, -183.09999999999985, -173.99999999999977, -162.3, -188.2999999999999, -188.3, -185.6999999999999, -190.89999999999992, -184.39999999999986, -193.49999999999994, -185.70000000000005, -162.2999999999998, -175.29999999999978, -186.9999999999999, -197.39999999999998, -186.9999999999999, -164.9000000000001, -192.19999999999993, -183.09999999999985, -181.79999999999984, -188.3, -177.8999999999998, -179.19999999999982, -168.80000000000007, -177.8999999999998, -180.50000000000006, -189.5999999999999, -189.5999999999999, -175.29999999999984, -188.2999999999999, -177.8999999999998, -192.19999999999993, -173.99999999999994, -189.59999999999994, -184.39999999999986, -184.39999999999986, -197.39999999999998, -176.2, -193.49999999999994, -188.2999999999999, -156.6000000000001, -185.69999999999993, -176.59999999999985, -184.40000000000003, -190.89999999999992, -193.49999999999994, -190.89999999999992, -181.79999999999984, -176.59999999999994, -185.6999999999999, -164.8999999999998, -189.59999999999994, -162.40000000000006, -188.2999999999999, -183.09999999999985, -185.69999999999987, -153.7000000000001, -176.5999999999998, -188.2999999999999, -186.9999999999999, -183.09999999999985, -168.79999999999973, -189.5999999999999, -189.5999999999999, -176.5999999999998, -192.19999999999993, -162.29999999999984, -181.79999999999984, -184.39999999999986, -194.79999999999995, -192.19999999999993, -185.69999999999987, -179.19999999999982, -163.59999999999982, -173.99999999999983, -179.19999999999982, -193.49999999999994, -197.4, -176.60000000000005, -176.5999999999998, -179.19999999999996, -180.49999999999983, -176.5999999999998, -183.09999999999985, -185.69999999999987, -179.19999999999982, -177.8999999999998, -169.89999999999984, -183.09999999999985, -170.3, -154.50000000000003, -147.10000000000014, -196.09999999999997, -156.9, -190.89999999999992, -181.79999999999984, -189.5999999999999, -181.79999999999984, -193.49999999999994, -184.39999999999986, -190.89999999999992, -187.0, -189.5999999999999, -168.6999999999999, -176.5999999999998, -176.5999999999998, -197.4, -190.90000000000003, -175.29999999999978, -176.59999999999997, -189.5999999999999, -177.8999999999998, -183.09999999999985, -176.5999999999998, -181.79999999999984, -190.89999999999992, -194.79999999999995, -180.49999999999983, -184.39999999999986, -192.19999999999993, -155.8000000000001, -190.89999999999992, -184.39999999999986, -185.69999999999987, -185.69999999999987, -189.5999999999999, -176.60000000000005, -192.19999999999993, -190.89999999999992, -185.69999999999987, -194.79999999999995, -183.09999999999985, -186.9999999999999, -184.39999999999986, -184.40000000000003, -189.59999999999997, -185.69999999999987, -180.49999999999983, -192.19999999999993, -190.90000000000003, -170.0999999999998, -180.49999999999983, -174.39999999999984, -189.5999999999999, -184.39999999999986, -185.69999999999987, -190.89999999999992, -196.09999999999997, -161.00000000000009, -192.19999999999993, -166.19999999999987, -177.8999999999998, -168.80000000000007, -179.19999999999982, -186.9999999999999, -184.39999999999986, -183.09999999999985, -192.19999999999993, -189.5999999999999, -153.90000000000006, -193.49999999999994, -186.9999999999999, -179.19999999999982, -196.09999999999997, -169.89999999999984, -188.3, -185.69999999999987, -173.99999999999977, -184.39999999999986, -190.89999999999992, -196.10000000000002, -184.39999999999986, -185.69999999999987, -194.79999999999995, -193.49999999999994, -150.5000000000001, -189.5999999999999, -192.19999999999993, -183.09999999999985, -187.00000000000003, -172.69999999999993, -172.69999999999993, -183.09999999999985, -188.2999999999999, -180.49999999999983, -185.70000000000005, -197.39999999999998, -185.69999999999987, -194.79999999999995, -181.7999999999999, -197.39999999999998, -192.19999999999993, -184.39999999999986, -179.19999999999982, -186.9999999999999, -184.39999999999986, -190.89999999999992, -197.39999999999998, -180.49999999999983, -193.5, -192.19999999999993, -190.89999999999992, -175.29999999999998, -180.49999999999983, -193.49999999999994, -196.09999999999997, -187.0, -186.99999999999991, -179.19999999999982, -190.89999999999992, -188.2999999999999, -185.69999999999987, -186.9999999999999, -177.8999999999999, -177.8999999999998, -190.89999999999992, -179.19999999999982, -180.49999999999983, -181.79999999999984, -179.19999999999982, -196.10000000000002, -192.19999999999993, -190.89999999999992, -180.49999999999983, -189.5999999999999, -190.89999999999992, -185.69999999999987, -197.39999999999998, -183.09999999999985, -172.49999999999986, -184.39999999999986, -174.00000000000006, -183.09999999999985, -184.39999999999986, -184.39999999999986, -145.70000000000016, -196.10000000000002, -181.80000000000004, -188.2999999999999, -190.89999999999992, -192.19999999999993, -189.5999999999999, -175.29999999999978, -188.2999999999999, -190.89999999999992, -185.69999999999987, -183.09999999999985, -196.09999999999997, -176.5999999999998, -192.19999999999993, -177.89999999999984, -194.79999999999995, -144.2999999999999, -181.79999999999984, -193.5, -159.7000000000001, -176.5999999999998, -179.19999999999982, -189.5999999999999, -193.49999999999994, -186.9999999999999, -176.5999999999998, -193.49999999999994, -184.39999999999986, -194.79999999999995, -166.19999999999987, -185.69999999999987, -149.30000000000013, -168.39999999999992, -190.89999999999992, -197.4, -188.2999999999999, -189.5999999999999, -189.5999999999999, -190.89999999999992, -160.5000000000001, -194.79999999999995, -183.09999999999985, -196.09999999999997, -190.89999999999992, -189.60000000000002, -177.8999999999998, -172.69999999999976, -159.7000000000001, -183.09999999999985, -188.2999999999999, -192.19999999999993, -188.2999999999999, -161.10000000000008, -197.39999999999998, -183.09999999999985, -194.79999999999995, -190.89999999999992, -184.39999999999986, -176.5999999999998, -192.19999999999993, -184.40000000000003, -194.79999999999995, -196.09999999999997, -181.79999999999984, -193.49999999999994, -189.5999999999999, -177.8999999999998, -175.29999999999987, -188.2999999999999, -184.39999999999986, -197.4, -176.5999999999998, -173.99999999999997, -192.19999999999993, -189.5999999999999, -183.09999999999985, -184.39999999999986, -175.29999999999987, -193.49999999999994, -192.19999999999993, -175.29999999999978, -170.0999999999999]\n"
     ]
    }
   ],
   "source": [
    "training_data = model_data_preparation()"
   ]
  },
  {
   "cell_type": "code",
   "execution_count": 49,
   "metadata": {},
   "outputs": [
    {
     "name": "stdout",
     "output_type": "stream",
     "text": [
      "Epoch 1/5\n",
      "160792/160792 [==============================] - 14s 87us/step - loss: 0.8877\n",
      "Epoch 2/5\n",
      "160792/160792 [==============================] - 15s 92us/step - loss: 0.8850\n",
      "Epoch 3/5\n",
      "160792/160792 [==============================] - 15s 91us/step - loss: 0.8843\n",
      "Epoch 4/5\n",
      "160792/160792 [==============================] - 15s 93us/step - loss: 0.8839\n",
      "Epoch 5/5\n",
      "160792/160792 [==============================] - 15s 96us/step - loss: 0.8834\n",
      "Wall time: 1min 31s\n"
     ]
    },
    {
     "data": {
      "text/plain": [
       "array([-200., -200., -200., -200., -200., -200., -200., -200., -200.,\n",
       "       -200., -200., -200., -200., -200., -200., -200., -200., -200.,\n",
       "       -200., -200., -200., -200., -200., -200., -200., -200., -200.,\n",
       "       -200., -200., -200., -200., -200., -200., -200., -200., -200.,\n",
       "       -200., -200., -200., -200., -200., -200., -200., -200., -200.,\n",
       "       -200., -200., -200., -200., -200., -200., -200., -200., -200.,\n",
       "       -200., -200., -200., -200., -200., -200., -200., -200., -200.,\n",
       "       -200., -200., -200., -200., -200., -200., -200., -200., -200.,\n",
       "       -200., -200., -200., -200., -200., -200., -200., -200., -200.,\n",
       "       -200., -200., -200., -200., -200., -200., -200., -200., -200.,\n",
       "       -200., -200., -200., -200., -200., -200., -200., -200., -200.,\n",
       "       -200.])"
      ]
     },
     "execution_count": 49,
     "metadata": {},
     "output_type": "execute_result"
    }
   ],
   "source": [
    "%%time\n",
    "def build_model(input_size, output_size):\n",
    "        model = Sequential()\n",
    "        model.add(Dense(128, input_dim=input_size, activation='relu'))  #initializer\n",
    "        model.add(Dense(52, activation='relu'))\n",
    "        model.add(Dense(output_size, activation='linear'))\n",
    "        model.compile(loss='squared_hinge', optimizer=Adam()) # keras.losses.categorical_crossentropy\n",
    "\n",
    "        return model\n",
    "\n",
    "def train_model(training_data):\n",
    "    X = np.array([i[0] for i in training_data]).reshape(-1, len(training_data[0][0]))\n",
    "    y = np.array([i[1] for i in training_data]).reshape(-1, len(training_data[0][1]))\n",
    "    model = build_model(input_size=len(X[0]), output_size=len(y[0]))\n",
    "    \n",
    "    model.fit(X, y, epochs=5)   # train\n",
    "    return model\n",
    "\n",
    "trained_model = train_model(training_data)\n",
    "\n",
    "# orginal experiment\n",
    "\n",
    "scores = []\n",
    "choices = []\n",
    "for each_game in range(100):\n",
    "    score = 0\n",
    "    prev_obs = []\n",
    "    for step_index in range(goal_steps):\n",
    "#         Uncomment this line if you want to see how our bot playing\n",
    "#        env.render()\n",
    "        if len(prev_obs)==0:\n",
    "            action = random.randrange(0,2)\n",
    "        else:\n",
    "            action = np.argmax(trained_model.predict(prev_obs.reshape(-1, len(prev_obs)))[0])\n",
    "        \n",
    "        choices.append(action)\n",
    "        new_observation, reward, done, info = env.step(action)\n",
    "        prev_obs = new_observation\n",
    "        score+=reward   #direct\n",
    "        if done:\n",
    "            break\n",
    "\n",
    "    env.reset()\n",
    "    scores.append(score)\n",
    "    \n",
    "scores6_order = np.sort(scores)\n",
    "avg_scores6 = sum(scores)/len(scores)\n",
    "scores6_order"
   ]
  },
  {
   "cell_type": "markdown",
   "metadata": {},
   "source": [
    "### plot"
   ]
  },
  {
   "cell_type": "code",
   "execution_count": 53,
   "metadata": {},
   "outputs": [
    {
     "data": {
      "image/png": "[encoded data removed]",
      "text/plain": [
       "<Figure size 576x432 with 1 Axes>"
      ]
     },
     "metadata": {
      "needs_background": "light"
     },
     "output_type": "display_data"
    }
   ],
   "source": [
    "from matplotlib import pyplot as plt\n",
    "\n",
    "fig = plt.figure(figsize=(8,6))\n",
    "ax = fig.add_subplot(111)\n",
    "\n",
    "ax.plot(scores1_order,label='self-define 1')\n",
    "ax.axhline(avg_scores1, linewidth=0.5)  # color='blue', linewidth=0.5\n",
    "\n",
    "ax.plot(scores2_order, color='r',label='self-define 2')\n",
    "ax.axhline(avg_scores2, color='r',linewidth=0.5)\n",
    "\n",
    "ax.plot(scores3_order, color='g',label='self-define 3')\n",
    "ax.axhline(avg_scores3, color='g',linewidth=0.5)\n",
    "\n",
    "ax.plot(scores4_order, color='y',label='self-define 4')\n",
    "ax.axhline(avg_scores4, color='y',linewidth=0.5)\n",
    "\n",
    "ax.plot(scores5_order, color='m',label='self-define 5-1')\n",
    "ax.axhline(avg_scores5, color='m',linewidth=0.5)\n",
    "\n",
    "ax.plot(scores6_order, color='c',label='self-define 5-2')\n",
    "ax.axhline(avg_scores6, color='c',linewidth=0.5)\n",
    "\n",
    "# ax.plot(scores7_order, color='c',label='hinge')\n",
    "# ax.axhline(avg_scores7, color='c',linewidth=0.5)\n",
    "\n",
    "ax.legend(loc='lower right', prop={\"size\":12})\n",
    "ax.margins(0.05)\n",
    "#ax.set_title('results with different loss')\n",
    "ax.set_xlabel('trial')\n",
    "ax.set_ylabel('score')\n",
    "\n",
    "plt.savefig('reward.png')\n",
    "# ax.set_rasterized(True)\n",
    "# plt.savefig('loss.eps', format='eps')\n",
    "\n",
    "plt.show()"
   ]
  },
  {
   "cell_type": "code",
   "execution_count": null,
   "metadata": {},
   "outputs": [],
   "source": []
  },
  {
   "cell_type": "code",
   "execution_count": null,
   "metadata": {},
   "outputs": [],
   "source": []
  }
 ],
 "metadata": {
  "kernelspec": {
   "display_name": "tf21",
   "language": "python",
   "name": "tf21"
  },
  "language_info": {
   "codemirror_mode": {
    "name": "ipython",
    "version": 3
   },
   "file_extension": ".py",
   "mimetype": "text/x-python",
   "name": "python",
   "nbconvert_exporter": "python",
   "pygments_lexer": "ipython3",
   "version": "3.7.6"
  }
 },
 "nbformat": 4,
 "nbformat_minor": 2
}
